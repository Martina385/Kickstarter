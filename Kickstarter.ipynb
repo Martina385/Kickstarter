{
 "cells": [
  {
   "cell_type": "markdown",
   "metadata": {},
   "source": [
    "# Kickstarter - Meme Master Memory\n",
    "\n",
    "by Martina Gottschalk, Petra Pinger and Ole Hansen \n",
    "\n",
    "## Business case: \n",
    "Mr. Brain invented a Meme Master Memory (a memory game with videos/gifs) and needs money for the implementation. He wants to do the project in 4 weeks, wants to get 100,000USD and wants to launch the campaign in summertime in the category photography.\n",
    "Under these circumstances, will the project be successful? Furthermore we want to recommend Mr. Brain different improvements to increase his chance for success. In addition we also want to predict his potential pledged amount. "
   ]
  },
  {
   "cell_type": "markdown",
   "metadata": {},
   "source": [
    "## Approach:\n",
    "\n",
    "* Business Understanding:\n",
    "    * Kickstarter is a Crowdfunding website that enables entrepreneurs to fund money for their business ideas.\n",
    "    * With regard to our business case we are looking for the features that might be relavant for the success of the project, especially with regard to the characteristics of our stakeholders project (e.g., product category, season) \n",
    "    * Evaluation metrics: It is in our stakeholders interest that we are confident in our prediction of success and that we avoid the case that our stakeholder puts a lot of effort in a project that is likely to fail. In other words we want to avoid a false positive prediction and that is why we choose precision as our main evlaution metric.\n",
    "<br/>\n",
    "<br/>\n",
    "* Data Collection \n",
    "    * For our data analysis and modeling we use a well known kaggle dataset. Our data science bootcamp teachers gave us the dataset but similar datasets can be found online.\n",
    "    * An overview of all the columns in the dataset can be found below.\n",
    "<br/>\n",
    "<br/>\n",
    "* EDA:\n",
    "    * see Jupyter Notebook \"Kickstarter_EDA\" for an EDA \n",
    "<br/>\n",
    "<br/>\n",
    "* Feature Engineering / Data Cleaning:\n",
    "    * see Jupyter Notebook \"Kickstarter\" for data preparation, cleaning and feature engineering\n",
    "<br/> \n",
    "<br/>\n",
    "* Predictive Modeling\n",
    "    * We will use a simple logistic regression, SVM and random forest to predict the success of the project. The classification models can be found in the Jupyter Notebook \"Kickstarter\"\n",
    "    * For the prediciton of the total amount that the stakeholder could pledge we use a polynomial regression, random forest and Adaboost. This is still work in progess. First models do not show a reasonable fit and further analyses might be needed.\n",
    "<br/>\n",
    "<br/>\n",
    "* Stakeholder Presentation  "
   ]
  },
  {
   "cell_type": "markdown",
   "metadata": {},
   "source": [
    "# Data cleaning\n",
    "\n",
    "In this notebook we will clean our Dataframe 'Kickstarter_merged.csv'. That means we will create new columns which we think are important as well as we will drop columns with unimportance.\n",
    "\n",
    "#### Overview new columns\n",
    "    * column 'blurbs' will be replaced with -> 'blurb_len_w'\n",
    "    * column 'slug' will be trplaced with -> 'slug_len_w', \n",
    "    * column 'category' will be replaced with -> 'parent_name'\n",
    "    * column 'launched_at' will be replaced with -> 'launched_month'\n",
    "    * new column duration of the crowdfunding\n",
    "    * new column preparation time (from created_at until launched_at\n",
    "    * column 'state_changed_at' will be replaced with -> 'state_changed_year', 'state_changed_month, \n",
    "    * new column pledged/backer\n",
    "    * column 'goal' will be converted in USD\n",
    "\n",
    "#### Overview dropped columns\n",
    "    * converted_pledged_amount\n",
    "    * creator\n",
    "    * currency \n",
    "    * currency_symbol\n",
    "    * currency_trailing_code\n",
    "    * current_curency\n",
    "    * disable_communication\n",
    "    * friends\n",
    "    * fx_rate\n",
    "    * id after using it for other transformations\n",
    "    * is_backing\n",
    "    * is_starrable\n",
    "    * is_starred\n",
    "    * location\n",
    "    * name \n",
    "    * permissions\n",
    "    * photo\n",
    "    * pledged\n",
    "    * profile \n",
    "    * slug\n",
    "    * source_url\n",
    "    * spotlight\n",
    "    * state_changed_at \n",
    "    * static_usd_rate \n",
    "    * urls\n",
    "    * usd_type\n",
    "   \n",
    "    \n",
    "    \n",
    "#### Overview dropped rows\n",
    "    * 8 rows with missing values in column 'blurbs'\n",
    "    * drop the duplicates\n",
    "    * drop rows with values 'suspended' and 'live' in column 'state'\n"
   ]
  },
  {
   "cell_type": "code",
   "execution_count": 1,
   "metadata": {},
   "outputs": [],
   "source": [
    "# import packages\n",
    "import pandas as pd\n",
    "import numpy as np\n",
    "import seaborn as sns\n",
    "import time\n",
    "import datetime as dt\n",
    "import json\n",
    "import matplotlib.pyplot as plt\n",
    "from sklearn.model_selection import train_test_split, cross_val_score\n",
    "from sklearn.preprocessing import StandardScaler\n",
    "from sklearn.datasets import make_classification\n",
    "from sklearn.linear_model import LogisticRegression\n",
    "from sklearn.metrics import confusion_matrix\n",
    "from sklearn.metrics import classification_report\n",
    "from sklearn import svm\n",
    "from sklearn.ensemble import RandomForestClassifier\n",
    "from sklearn.model_selection import RandomizedSearchCV\n",
    "from sklearn.metrics import mean_squared_error, r2_score\n",
    "from sklearn.linear_model import LinearRegression\n",
    "from sklearn.preprocessing import PolynomialFeatures\n",
    "from sklearn.ensemble import AdaBoostRegressor\n",
    "from sklearn.datasets import make_regression\n",
    "\n",
    "\n",
    "import pylab as pl\n",
    "import scipy.optimize as opt\n",
    "from sklearn import preprocessing\n",
    "import itertools\n",
    "import warnings \n",
    "warnings.filterwarnings('ignore')"
   ]
  },
  {
   "cell_type": "markdown",
   "metadata": {},
   "source": [
    "Read in file."
   ]
  },
  {
   "cell_type": "code",
   "execution_count": 2,
   "metadata": {},
   "outputs": [],
   "source": [
    "df = pd.read_csv('data/Kickstarter_merged.csv', index_col=0)"
   ]
  },
  {
   "cell_type": "markdown",
   "metadata": {},
   "source": [
    "## Create new columns\n",
    "    \n",
    "Let´s start with creating new columns:"
   ]
  },
  {
   "cell_type": "markdown",
   "metadata": {},
   "source": [
    "### Length of Blurb in words:\n",
    "The blurb is the description of a kickstarter project. We assume that the length of the project description is an indicator of how well a project is described and presented and that a good presentation is relevant for success."
   ]
  },
  {
   "cell_type": "code",
   "execution_count": 3,
   "metadata": {},
   "outputs": [],
   "source": [
    "def string_len_w(string):\n",
    "    '''Return length of string (number of word, seperated by Space).'''\n",
    "    string_str = str(string)\n",
    "    string_list = string_str.split()\n",
    "    string_len = len(string_list)\n",
    "    return string_len"
   ]
  },
  {
   "cell_type": "code",
   "execution_count": 4,
   "metadata": {},
   "outputs": [],
   "source": [
    "def add_blurb_len_w (df):\n",
    "    '''Adding column that contains the length of the Blurb (words) and returns the updated Dataframe'''\n",
    "    df['blurb_len_w'] = df.apply(lambda x: string_len_w(x['blurb']), axis=1)\n",
    "    return df"
   ]
  },
  {
   "cell_type": "code",
   "execution_count": 5,
   "metadata": {},
   "outputs": [],
   "source": [
    "df = add_blurb_len_w(df)"
   ]
  },
  {
   "cell_type": "markdown",
   "metadata": {},
   "source": [
    "### Length of Slug in words:\n",
    "The slug is the addition in the URL and is equal to the project name. We think that a longer name is a better description of the project and more relevant keywords are easier to be found by web crawler (relevant for Search Engine Optimization). Therefore we think that longer slugs are associated with success."
   ]
  },
  {
   "cell_type": "code",
   "execution_count": 6,
   "metadata": {},
   "outputs": [],
   "source": [
    "def string_len_slug_w(string):\n",
    "    '''Returns length of string (number of words, seperated by \"-\").'''\n",
    "    string_str = str(string)\n",
    "    string_list = string_str.split(\"-\")\n",
    "    string_len = len(string_list)\n",
    "    return string_len"
   ]
  },
  {
   "cell_type": "code",
   "execution_count": 7,
   "metadata": {},
   "outputs": [],
   "source": [
    "def add_slug_len_w (df):\n",
    "    '''Adding column that contains the length of the Slug (words) and returns the updated Dataframe'''\n",
    "    df['slug_len_w'] = df.apply(lambda x: string_len_slug_w(x['slug']), axis=1)\n",
    "    return df"
   ]
  },
  {
   "cell_type": "code",
   "execution_count": 8,
   "metadata": {},
   "outputs": [],
   "source": [
    "df = add_slug_len_w(df)"
   ]
  },
  {
   "cell_type": "markdown",
   "metadata": {},
   "source": [
    " ### Category aka parent_name\n",
    " In this section we extract the category name out of information saved as a json type. We think certain categories (e.g. games) are more successfull than others (e.g. music)."
   ]
  },
  {
   "cell_type": "code",
   "execution_count": 9,
   "metadata": {},
   "outputs": [],
   "source": [
    "def add_parent_id(df):\n",
    "    '''Extracts Parent ID out of the Category json and adds the Column to Dataframe. Returns updated Dataframe'''\n",
    "    df['category_parent_id'] = pd.DataFrame([json.loads(df[\"category\"][i]).get(\"parent_id\") for i in range(df.shape[0])])\n",
    "    return df"
   ]
  },
  {
   "cell_type": "code",
   "execution_count": 10,
   "metadata": {},
   "outputs": [],
   "source": [
    "def add_category_id(df):\n",
    "    '''Extracts category ID out of the Category json and adds the Column to Dataframe. Returns updated Dataframe'''\n",
    "    df['category_id'] = pd.DataFrame([json.loads(df[\"category\"][i]).get(\"id\") for i in range(df.shape[0])])\n",
    "    return df"
   ]
  },
  {
   "cell_type": "code",
   "execution_count": 11,
   "metadata": {},
   "outputs": [],
   "source": [
    "def add_category_name(df):\n",
    "    '''Extracts category name out of the Category json and adds the Column to Dataframe. Returns updated Dataframe'''\n",
    "    df['category_name'] = pd.DataFrame([json.loads(df[\"category\"][i]).get(\"name\") for i in range(df.shape[0])])\n",
    "    return df"
   ]
  },
  {
   "cell_type": "code",
   "execution_count": 12,
   "metadata": {},
   "outputs": [],
   "source": [
    "def fill_na(df, column_name):\n",
    "    '''Fill Missings with 0 as type integer. Returns updated dataframe. eg, for parent ID and pledged per backer'''\n",
    "    df[column_name] = df[column_name].fillna(0).astype(\"int\")\n",
    "    return df"
   ]
  },
  {
   "cell_type": "code",
   "execution_count": 13,
   "metadata": {},
   "outputs": [],
   "source": [
    "# Making a list based on entry in one category and if missing adds entry of another Column\n",
    "def helper_list():\n",
    "    '''Making a list based on entry in one category and if missing adds entry of another Column'''\n",
    "    empty = []\n",
    "    for i in range(df.shape[0]):\n",
    "        if df[\"category_parent_id\"][i] != 0:\n",
    "            empty.append(df[\"category_parent_id\"][i])\n",
    "        else:\n",
    "            empty.append(df[\"category_id\"][i])\n",
    "    return empty"
   ]
  },
  {
   "cell_type": "code",
   "execution_count": 14,
   "metadata": {},
   "outputs": [],
   "source": [
    "# adds helper list as column to dataframe \n",
    "def add_list_as_column(df, column_name, list_name):\n",
    "    '''Adds helper list as column to dataframe and retruns updated dataframe'''\n",
    "    df[column_name] = pd.DataFrame(list_name)\n",
    "    return df"
   ]
  },
  {
   "cell_type": "code",
   "execution_count": 15,
   "metadata": {},
   "outputs": [],
   "source": [
    "def add_parent_name(df, column_name1, column_name2, dictionary):\n",
    "    '''based on key value in a column, column with value is added as a column and updated dataframe is returned. \n",
    "    Example:\n",
    "        parents_dict = {1: \"Art\", 3: \"Comics\", 6: \"Dance\", 7: \"Design\", 9: \"Fashion\", 10: \"Food\",\n",
    "                11: \"Film & Video\", 12: \"Games\", 13: \"Journalism\", 14: \"Music\", 15: \"Photography\", 16: \"Technology\",\n",
    "               17: \"Theater\", 18: \"Publishing\", 26: \"Crafts\"}\n",
    "            df[\"parent_name\"] = df[\"filled_parent\"].apply(lambda x: parents_dict.get(x))'''\n",
    "    df[column_name1] = df[column_name2].apply(lambda x: dictionary.get(x))\n",
    "    return df"
   ]
  },
  {
   "cell_type": "code",
   "execution_count": 16,
   "metadata": {},
   "outputs": [],
   "source": [
    "df = add_parent_id(df)\n",
    "df = add_category_id(df)\n",
    "df = add_category_name(df)\n",
    "df = fill_na(df, 'category_parent_id')"
   ]
  },
  {
   "cell_type": "code",
   "execution_count": 17,
   "metadata": {},
   "outputs": [],
   "source": [
    "empty = []\n",
    "for i in range(df.shape[0]):\n",
    "    if df[\"category_parent_id\"][i] != 0:\n",
    "        empty.append(df[\"category_parent_id\"][i])\n",
    "    else:\n",
    "        empty.append(df[\"category_id\"][i])"
   ]
  },
  {
   "cell_type": "code",
   "execution_count": 18,
   "metadata": {},
   "outputs": [],
   "source": [
    "df = add_list_as_column(df, \"filled_parent\", empty)"
   ]
  },
  {
   "cell_type": "code",
   "execution_count": 19,
   "metadata": {},
   "outputs": [],
   "source": [
    "df = add_parent_name(df, \"parent_name\", \"filled_parent\", {1: \"Art\", 3: \"Comics\", 6: \"Dance\", 7: \"Design\", 9: \"Fashion\", 10: \"Food\",\n",
    "                11: \"Film & Video\", 12: \"Games\", 13: \"Journalism\", 14: \"Music\", 15: \"Photography\", 16: \"Technology\",\n",
    "               17: \"Theater\", 18: \"Publishing\", 26: \"Crafts\"})"
   ]
  },
  {
   "cell_type": "code",
   "execution_count": 20,
   "metadata": {},
   "outputs": [
    {
     "data": {
      "text/plain": [
       "0              Fashion\n",
       "1                Games\n",
       "2                Music\n",
       "3                Games\n",
       "4           Publishing\n",
       "              ...     \n",
       "209217           Games\n",
       "209218           Music\n",
       "209219      Technology\n",
       "209220    Film & Video\n",
       "209221      Journalism\n",
       "Name: parent_name, Length: 209222, dtype: object"
      ]
     },
     "execution_count": 20,
     "metadata": {},
     "output_type": "execute_result"
    }
   ],
   "source": [
    "df[\"parent_name\"]"
   ]
  },
  {
   "cell_type": "markdown",
   "metadata": {},
   "source": [
    "### Month launched\n",
    "In the dataset we have a timestamp for the moment the project was created, launched and ended (deadline). We think that the month/season a project is launched influences its success."
   ]
  },
  {
   "cell_type": "code",
   "execution_count": 21,
   "metadata": {},
   "outputs": [],
   "source": [
    "#funtion to extract the month out of the number\n",
    "def extract_month(number):\n",
    "    '''Extracts the month out of the number and returns the month'''\n",
    "    gmtime = time.gmtime(number)\n",
    "    return gmtime[1]"
   ]
  },
  {
   "cell_type": "code",
   "execution_count": 22,
   "metadata": {},
   "outputs": [],
   "source": [
    "# Adding column with month the project was launched\n",
    "def adding_month_launched(df):  \n",
    "    '''Adding column with month the project was launched and returns the updated dataframe'''\n",
    "    df[\"launched_month\"] = df.apply(lambda x: extract_month(x[\"launched_at\"]), axis=1)\n",
    "    return df"
   ]
  },
  {
   "cell_type": "code",
   "execution_count": 23,
   "metadata": {},
   "outputs": [],
   "source": [
    "df = adding_month_launched(df)"
   ]
  },
  {
   "cell_type": "markdown",
   "metadata": {},
   "source": [
    "### Duration\n",
    "The duration is the time period between the moment it was launched and the deadline. We created a feature by substracting the corresponding timestamps. We assume that the duration of a project influences its success."
   ]
  },
  {
   "cell_type": "code",
   "execution_count": 24,
   "metadata": {},
   "outputs": [],
   "source": [
    "def duration(deadline, launched_at):\n",
    "    '''Calculating difference between two timepoints and returns it in days'''\n",
    "    duration = deadline - launched_at\n",
    "    duration_complete = dt.timedelta(seconds=duration)\n",
    "    return duration_complete.days"
   ]
  },
  {
   "cell_type": "code",
   "execution_count": 25,
   "metadata": {},
   "outputs": [],
   "source": [
    "# Adding column with duration in days\n",
    "def adding_duration(df):\n",
    "    '''Adding column with duration in days and returns updated dataframe'''\n",
    "    df[\"duration_days\"] = df.apply(lambda x: duration(x[\"deadline\"], x[\"launched_at\"]), axis=1)\n",
    "    return df"
   ]
  },
  {
   "cell_type": "code",
   "execution_count": 26,
   "metadata": {},
   "outputs": [],
   "source": [
    "df = adding_duration(df)"
   ]
  },
  {
   "cell_type": "markdown",
   "metadata": {},
   "source": [
    "### Preparation \n",
    "Similar to duration, the preparation is the period between the creation and the moment the poject is launched. Again we assume that a longer preparation might be relevant for success."
   ]
  },
  {
   "cell_type": "code",
   "execution_count": 27,
   "metadata": {},
   "outputs": [],
   "source": [
    "def adding_preparation(df):\n",
    "    '''Adding column with preparation in days and returns updated dataframe'''\n",
    "    df[\"preparation\"] = df.apply(lambda x: duration(x[\"launched_at\"], x[\"created_at\"]), axis=1)\n",
    "    return df"
   ]
  },
  {
   "cell_type": "code",
   "execution_count": 28,
   "metadata": {},
   "outputs": [],
   "source": [
    "df = adding_preparation(df)"
   ]
  },
  {
   "cell_type": "markdown",
   "metadata": {},
   "source": [
    "### pledged/backer as \"Reward Amount\"\n",
    "The project owner can set a reward for a certain amount that is pledged. As an indicator of this amount we used the average amount pledged per backer. The reward size might influence how fast the goal is reached and consequently for the success of a project. "
   ]
  },
  {
   "cell_type": "code",
   "execution_count": 29,
   "metadata": {},
   "outputs": [],
   "source": [
    "def adding_pledged_per_backer(df):\n",
    "    '''Adding column that is the averaged amount pledged per backer, returns updated dataframe'''\n",
    "    df['pledged_per_backer'] = (df['usd_pledged'] / df['backers_count']).round(2)\n",
    "    return df"
   ]
  },
  {
   "cell_type": "code",
   "execution_count": 30,
   "metadata": {},
   "outputs": [],
   "source": [
    "df = adding_pledged_per_backer(df)"
   ]
  },
  {
   "cell_type": "markdown",
   "metadata": {},
   "source": [
    "There are cases in our dataset with no backers. Because we cannot devide by zeros we have to convert the resulted missing values to 0."
   ]
  },
  {
   "cell_type": "code",
   "execution_count": 31,
   "metadata": {},
   "outputs": [],
   "source": [
    "df.pledged_per_backer = df.pledged_per_backer.fillna(0).astype(\"int\")"
   ]
  },
  {
   "cell_type": "markdown",
   "metadata": {},
   "source": [
    "### Coverting Goal to USD\n",
    "To garantee comparability of different currencies we convert the goal to USD. The amount of the goal is directly related to the success. The lower the goal is set, the more likely it is to be reached."
   ]
  },
  {
   "cell_type": "code",
   "execution_count": 32,
   "metadata": {},
   "outputs": [],
   "source": [
    "def usd_convert_goal(df, column_name, exchange_rate): \n",
    "    '''Converts a Column based on given exchange rate, rounds it to two decimal spaces  \n",
    "    and returns updated dataframe, e.g. \n",
    "    df['goal'] = (df['goal'] * df['static_usd_rate']).round(2)'''\n",
    "    df[column_name] = (df[column_name] * df[exchange_rate]).round(2)\n",
    "    return df"
   ]
  },
  {
   "cell_type": "code",
   "execution_count": 33,
   "metadata": {},
   "outputs": [],
   "source": [
    "df = usd_convert_goal(df, 'goal', 'static_usd_rate')"
   ]
  },
  {
   "cell_type": "code",
   "execution_count": 34,
   "metadata": {},
   "outputs": [
    {
     "data": {
      "text/plain": [
       "0         28000.00\n",
       "1          1000.00\n",
       "2         15000.00\n",
       "3         12160.66\n",
       "4          2800.00\n",
       "            ...   \n",
       "209217     1500.00\n",
       "209218     5466.50\n",
       "209219     2500.00\n",
       "209220     5500.00\n",
       "209221     1000.00\n",
       "Name: goal, Length: 209222, dtype: float64"
      ]
     },
     "execution_count": 34,
     "metadata": {},
     "output_type": "execute_result"
    }
   ],
   "source": [
    "df['goal']"
   ]
  },
  {
   "cell_type": "markdown",
   "metadata": {},
   "source": [
    "## Drop rows\n",
    "We drop few rows that have missing values in the column \"blurbs\" and duplicates. We checked for differences in the duplicated rows. The only column that differs, is the type of usd_type (domestic vs. international Dollars). Out of the duplicates we kept the latest because we assume that this would be the latest version.\n",
    "\n",
    "Futhermore, we drop one project that has a goal of 0 Dollar because this is not realistic.\n",
    "\n",
    "Because we want to predict the success of a project we decided to focus on the projects that have a certain state of success or failure. We therefore drop rows with the state \"live\", \"canceled\", \"suspended\"."
   ]
  },
  {
   "cell_type": "code",
   "execution_count": 35,
   "metadata": {},
   "outputs": [],
   "source": [
    "def drop_rows_missings(df, column_name):\n",
    "    '''Drop rows with missing values in column, eg. Blurb. Retruns dataframe.'''\n",
    "    df.dropna(subset = [column_name], inplace=True)\n",
    "    return df"
   ]
  },
  {
   "cell_type": "code",
   "execution_count": 36,
   "metadata": {},
   "outputs": [],
   "source": [
    "def drop_duplicates(df, column_name):\n",
    "    '''Creating dataframe and dropping all duplicates, based on a column_name (eg, ID) \n",
    "    and keep the last (\"newest\") duplicate'''\n",
    "    df = df.drop_duplicates(subset=['id'], keep='last')\n",
    "    return df"
   ]
  },
  {
   "cell_type": "code",
   "execution_count": 37,
   "metadata": {},
   "outputs": [],
   "source": [
    "# drop rows with values certain values in a dataframe and returns updated dataframe, eg 'suspended' and 'live' in column 'state'\n",
    "def drop_rows_value (df, column_name, value):\n",
    "    '''drop rows with values certain values in a dataframe and returns updated dataframe'''\n",
    "    df = df.drop(df[df[column_name] == value ].index)\n",
    "    return df"
   ]
  },
  {
   "cell_type": "code",
   "execution_count": 38,
   "metadata": {},
   "outputs": [],
   "source": [
    "# drop 8 rows with missing values in column 'blurbs'\n",
    "df = drop_rows_missings(df, 'blurb')"
   ]
  },
  {
   "cell_type": "code",
   "execution_count": 39,
   "metadata": {},
   "outputs": [],
   "source": [
    "# creating dataframe and dropping all duplicates and keep the last (\"newest\") duplicate \n",
    "df = drop_duplicates(df, 'id')"
   ]
  },
  {
   "cell_type": "code",
   "execution_count": 40,
   "metadata": {},
   "outputs": [],
   "source": [
    "df = drop_rows_value(df, 'state', 'suspended')"
   ]
  },
  {
   "cell_type": "code",
   "execution_count": 41,
   "metadata": {},
   "outputs": [],
   "source": [
    "df = drop_rows_value(df, 'state', 'live')"
   ]
  },
  {
   "cell_type": "code",
   "execution_count": 42,
   "metadata": {},
   "outputs": [],
   "source": [
    "df = drop_rows_value(df, 'state', 'canceled')"
   ]
  },
  {
   "cell_type": "code",
   "execution_count": 43,
   "metadata": {},
   "outputs": [],
   "source": [
    "df = drop_rows_value(df, 'goal', 0)"
   ]
  },
  {
   "cell_type": "markdown",
   "metadata": {},
   "source": [
    "## Drop Columns"
   ]
  },
  {
   "cell_type": "markdown",
   "metadata": {},
   "source": [
    "Now, we drop all columns that we assume not to be relevant. "
   ]
  },
  {
   "cell_type": "code",
   "execution_count": 44,
   "metadata": {},
   "outputs": [],
   "source": [
    "def drop_columns(df, list_columns):\n",
    "    '''Drops columns in the list and returns updated datadrame'''\n",
    "    df.drop(list_columns, axis=1, inplace=True)\n",
    "    return df"
   ]
  },
  {
   "cell_type": "code",
   "execution_count": 45,
   "metadata": {},
   "outputs": [
    {
     "data": {
      "text/plain": [
       "Index(['backers_count', 'blurb', 'category', 'converted_pledged_amount',\n",
       "       'country', 'created_at', 'creator', 'currency', 'currency_symbol',\n",
       "       'currency_trailing_code', 'current_currency', 'deadline',\n",
       "       'disable_communication', 'friends', 'fx_rate', 'goal', 'id',\n",
       "       'is_backing', 'is_starrable', 'is_starred', 'launched_at', 'location',\n",
       "       'name', 'permissions', 'photo', 'pledged', 'profile', 'slug',\n",
       "       'source_url', 'spotlight', 'staff_pick', 'state', 'state_changed_at',\n",
       "       'static_usd_rate', 'urls', 'usd_pledged', 'usd_type', 'blurb_len_w',\n",
       "       'slug_len_w', 'category_parent_id', 'category_id', 'category_name',\n",
       "       'filled_parent', 'parent_name', 'launched_month', 'duration_days',\n",
       "       'preparation', 'pledged_per_backer'],\n",
       "      dtype='object')"
      ]
     },
     "execution_count": 45,
     "metadata": {},
     "output_type": "execute_result"
    }
   ],
   "source": [
    "df.columns"
   ]
  },
  {
   "cell_type": "code",
   "execution_count": 46,
   "metadata": {},
   "outputs": [],
   "source": [
    "df = drop_columns(df, ['backers_count', 'blurb', 'category', 'converted_pledged_amount',\n",
    "       'country', 'created_at', 'creator', 'currency', 'currency_symbol',\n",
    "       'currency_trailing_code', 'current_currency', 'deadline',\n",
    "       'disable_communication', 'friends', 'fx_rate', 'id',\n",
    "       'is_backing', 'is_starrable', 'is_starred', 'launched_at', 'location',\n",
    "       'name', 'permissions', 'photo', 'pledged', 'profile', 'slug',\n",
    "       'source_url', 'spotlight', 'state_changed_at',\n",
    "       'static_usd_rate', 'urls', 'usd_type', 'category_parent_id', 'category_id', 'category_name',\n",
    "       'filled_parent', 'staff_pick'])"
   ]
  },
  {
   "cell_type": "markdown",
   "metadata": {},
   "source": [
    "## Drop Rows and only keep relevant categories"
   ]
  },
  {
   "cell_type": "markdown",
   "metadata": {},
   "source": [
    "Our stakeholder's project would only fit into one of the following categories: \"Games\", \"Art\", \"Photography\", \"Film & Video\", \"Design\", \"Technology\". Therefore we will drop all rows with other categories."
   ]
  },
  {
   "cell_type": "code",
   "execution_count": 47,
   "metadata": {},
   "outputs": [],
   "source": [
    "categories = [\"Games\", \"Art\", \"Photography\", \"Film & Video\", \"Design\", \"Technology\"]\n",
    "df = df[df.parent_name.isin(categories)]"
   ]
  },
  {
   "cell_type": "markdown",
   "metadata": {},
   "source": [
    "## Get Dummies\n",
    "For modeling we convert the categories into dummies. Because we want to include the season in our model we converted the month_launched into 4 seasons and make dummies out of that new column. The old column we drop."
   ]
  },
  {
   "cell_type": "code",
   "execution_count": 48,
   "metadata": {},
   "outputs": [],
   "source": [
    "# convert the categorical variable parent_name into dummy/indicator variables\n",
    "df_dum2 = pd.get_dummies(df.parent_name, prefix='parent_name')\n",
    "df = df.drop(['parent_name'], axis=1)\n",
    "df = pd.concat([df, df_dum2], axis=1)"
   ]
  },
  {
   "cell_type": "code",
   "execution_count": 49,
   "metadata": {},
   "outputs": [],
   "source": [
    "# making a categorical variable for launched_month q1, q2, q3, q4 \n",
    "df.loc[df['launched_month'] <  4, 'time_yr'] = 'q1'\n",
    "df.loc[(df['launched_month'] >=  4) & (df['launched_month'] <  7), 'time_yr'] = 'q2'\n",
    "df.loc[(df['launched_month'] >=  7) & (df['launched_month'] <  10), 'time_yr'] = 'q3'\n",
    "df.loc[df['launched_month'] >  9, 'time_yr'] = 'q4'"
   ]
  },
  {
   "cell_type": "code",
   "execution_count": 50,
   "metadata": {},
   "outputs": [],
   "source": [
    "df_dum3 = pd.get_dummies(df.time_yr, prefix='time_yr')\n",
    "df = df.drop(['time_yr'], axis=1)\n",
    "df = df.drop(['launched_month'], axis=1)\n",
    "df = pd.concat([df, df_dum3], axis=1)"
   ]
  },
  {
   "cell_type": "markdown",
   "metadata": {},
   "source": [
    "## Reset index"
   ]
  },
  {
   "cell_type": "code",
   "execution_count": 51,
   "metadata": {},
   "outputs": [],
   "source": [
    "df = df.reset_index()"
   ]
  },
  {
   "cell_type": "code",
   "execution_count": 52,
   "metadata": {},
   "outputs": [],
   "source": [
    "df = df.drop(['index'], axis = 1)"
   ]
  },
  {
   "cell_type": "code",
   "execution_count": 53,
   "metadata": {},
   "outputs": [
    {
     "data": {
      "text/html": [
       "<div>\n",
       "<style scoped>\n",
       "    .dataframe tbody tr th:only-of-type {\n",
       "        vertical-align: middle;\n",
       "    }\n",
       "\n",
       "    .dataframe tbody tr th {\n",
       "        vertical-align: top;\n",
       "    }\n",
       "\n",
       "    .dataframe thead th {\n",
       "        text-align: right;\n",
       "    }\n",
       "</style>\n",
       "<table border=\"1\" class=\"dataframe\">\n",
       "  <thead>\n",
       "    <tr style=\"text-align: right;\">\n",
       "      <th></th>\n",
       "      <th>goal</th>\n",
       "      <th>state</th>\n",
       "      <th>usd_pledged</th>\n",
       "      <th>blurb_len_w</th>\n",
       "      <th>slug_len_w</th>\n",
       "      <th>duration_days</th>\n",
       "      <th>preparation</th>\n",
       "      <th>pledged_per_backer</th>\n",
       "      <th>parent_name_Art</th>\n",
       "      <th>parent_name_Design</th>\n",
       "      <th>parent_name_Film &amp; Video</th>\n",
       "      <th>parent_name_Games</th>\n",
       "      <th>parent_name_Photography</th>\n",
       "      <th>parent_name_Technology</th>\n",
       "      <th>time_yr_q1</th>\n",
       "      <th>time_yr_q2</th>\n",
       "      <th>time_yr_q3</th>\n",
       "      <th>time_yr_q4</th>\n",
       "    </tr>\n",
       "  </thead>\n",
       "  <tbody>\n",
       "    <tr>\n",
       "      <th>0</th>\n",
       "      <td>1000.00</td>\n",
       "      <td>successful</td>\n",
       "      <td>1950.000000</td>\n",
       "      <td>22</td>\n",
       "      <td>4</td>\n",
       "      <td>30</td>\n",
       "      <td>8</td>\n",
       "      <td>41</td>\n",
       "      <td>0</td>\n",
       "      <td>0</td>\n",
       "      <td>0</td>\n",
       "      <td>1</td>\n",
       "      <td>0</td>\n",
       "      <td>0</td>\n",
       "      <td>0</td>\n",
       "      <td>0</td>\n",
       "      <td>1</td>\n",
       "      <td>0</td>\n",
       "    </tr>\n",
       "    <tr>\n",
       "      <th>1</th>\n",
       "      <td>12160.66</td>\n",
       "      <td>failed</td>\n",
       "      <td>165.384934</td>\n",
       "      <td>23</td>\n",
       "      <td>7</td>\n",
       "      <td>59</td>\n",
       "      <td>5</td>\n",
       "      <td>55</td>\n",
       "      <td>0</td>\n",
       "      <td>0</td>\n",
       "      <td>0</td>\n",
       "      <td>1</td>\n",
       "      <td>0</td>\n",
       "      <td>0</td>\n",
       "      <td>1</td>\n",
       "      <td>0</td>\n",
       "      <td>0</td>\n",
       "      <td>0</td>\n",
       "    </tr>\n",
       "    <tr>\n",
       "      <th>2</th>\n",
       "      <td>54737.83</td>\n",
       "      <td>failed</td>\n",
       "      <td>5.473783</td>\n",
       "      <td>3</td>\n",
       "      <td>2</td>\n",
       "      <td>20</td>\n",
       "      <td>3</td>\n",
       "      <td>5</td>\n",
       "      <td>1</td>\n",
       "      <td>0</td>\n",
       "      <td>0</td>\n",
       "      <td>0</td>\n",
       "      <td>0</td>\n",
       "      <td>0</td>\n",
       "      <td>0</td>\n",
       "      <td>0</td>\n",
       "      <td>1</td>\n",
       "      <td>0</td>\n",
       "    </tr>\n",
       "    <tr>\n",
       "      <th>3</th>\n",
       "      <td>2602.33</td>\n",
       "      <td>successful</td>\n",
       "      <td>2861.258251</td>\n",
       "      <td>19</td>\n",
       "      <td>3</td>\n",
       "      <td>21</td>\n",
       "      <td>2</td>\n",
       "      <td>38</td>\n",
       "      <td>0</td>\n",
       "      <td>0</td>\n",
       "      <td>0</td>\n",
       "      <td>0</td>\n",
       "      <td>1</td>\n",
       "      <td>0</td>\n",
       "      <td>0</td>\n",
       "      <td>0</td>\n",
       "      <td>0</td>\n",
       "      <td>1</td>\n",
       "    </tr>\n",
       "    <tr>\n",
       "      <th>4</th>\n",
       "      <td>5000.00</td>\n",
       "      <td>successful</td>\n",
       "      <td>5466.000000</td>\n",
       "      <td>25</td>\n",
       "      <td>7</td>\n",
       "      <td>29</td>\n",
       "      <td>0</td>\n",
       "      <td>84</td>\n",
       "      <td>1</td>\n",
       "      <td>0</td>\n",
       "      <td>0</td>\n",
       "      <td>0</td>\n",
       "      <td>0</td>\n",
       "      <td>0</td>\n",
       "      <td>1</td>\n",
       "      <td>0</td>\n",
       "      <td>0</td>\n",
       "      <td>0</td>\n",
       "    </tr>\n",
       "  </tbody>\n",
       "</table>\n",
       "</div>"
      ],
      "text/plain": [
       "       goal       state  usd_pledged  blurb_len_w  slug_len_w  duration_days  \\\n",
       "0   1000.00  successful  1950.000000           22           4             30   \n",
       "1  12160.66      failed   165.384934           23           7             59   \n",
       "2  54737.83      failed     5.473783            3           2             20   \n",
       "3   2602.33  successful  2861.258251           19           3             21   \n",
       "4   5000.00  successful  5466.000000           25           7             29   \n",
       "\n",
       "   preparation  pledged_per_backer  parent_name_Art  parent_name_Design  \\\n",
       "0            8                  41                0                   0   \n",
       "1            5                  55                0                   0   \n",
       "2            3                   5                1                   0   \n",
       "3            2                  38                0                   0   \n",
       "4            0                  84                1                   0   \n",
       "\n",
       "   parent_name_Film & Video  parent_name_Games  parent_name_Photography  \\\n",
       "0                         0                  1                        0   \n",
       "1                         0                  1                        0   \n",
       "2                         0                  0                        0   \n",
       "3                         0                  0                        1   \n",
       "4                         0                  0                        0   \n",
       "\n",
       "   parent_name_Technology  time_yr_q1  time_yr_q2  time_yr_q3  time_yr_q4  \n",
       "0                       0           0           0           1           0  \n",
       "1                       0           1           0           0           0  \n",
       "2                       0           0           0           1           0  \n",
       "3                       0           0           0           0           1  \n",
       "4                       0           1           0           0           0  "
      ]
     },
     "execution_count": 53,
     "metadata": {},
     "output_type": "execute_result"
    }
   ],
   "source": [
    "df.head()"
   ]
  },
  {
   "cell_type": "markdown",
   "metadata": {},
   "source": [
    "# Classification"
   ]
  },
  {
   "cell_type": "markdown",
   "metadata": {},
   "source": [
    "As a next step, we want to predict our stakeholder's success chances. To do so, we train a classification model based on our data. Because we want to use the current dataset for classification and regression, we rename/duplicate the dataframe at this point."
   ]
  },
  {
   "cell_type": "code",
   "execution_count": 54,
   "metadata": {},
   "outputs": [],
   "source": [
    "df_c = df.copy()"
   ]
  },
  {
   "cell_type": "markdown",
   "metadata": {},
   "source": [
    "Our target value for the prediction is the column \"state\". We convert this column into binary integers. "
   ]
  },
  {
   "cell_type": "code",
   "execution_count": 55,
   "metadata": {},
   "outputs": [],
   "source": [
    "df_c['state'] = np.where(df_c['state'] == 'successful', 1, 0)"
   ]
  },
  {
   "cell_type": "markdown",
   "metadata": {},
   "source": [
    "For classification we don't need usd_pledged, because we would not know this in advance. 'usd_pledged' will be our target variable in the regression model. "
   ]
  },
  {
   "cell_type": "code",
   "execution_count": 56,
   "metadata": {},
   "outputs": [],
   "source": [
    "df_c = drop_columns(df_c, ['usd_pledged'])"
   ]
  },
  {
   "cell_type": "markdown",
   "metadata": {},
   "source": [
    "## Training the Model\n",
    "### Train-Test-Split\n",
    "Before we fit our model we have to split our data into test and train data. "
   ]
  },
  {
   "cell_type": "code",
   "execution_count": 57,
   "metadata": {},
   "outputs": [],
   "source": [
    "y = df_c.state\n",
    "X = df_c.drop('state', axis=1)"
   ]
  },
  {
   "cell_type": "code",
   "execution_count": 58,
   "metadata": {},
   "outputs": [],
   "source": [
    "# Train-test-split\n",
    "X_train, X_test, y_train, y_test = train_test_split(X, y, test_size=0.2, random_state=42, stratify=y)"
   ]
  },
  {
   "cell_type": "code",
   "execution_count": 59,
   "metadata": {},
   "outputs": [],
   "source": [
    "# we have to define which columns we want to scale.\n",
    "col_scale = ['goal', 'blurb_len_w', 'slug_len_w', 'duration_days', 'preparation', 'pledged_per_backer']"
   ]
  },
  {
   "cell_type": "markdown",
   "metadata": {},
   "source": [
    "### Data standardization\n",
    "To bring all our numeric features on the same scale we standardize them."
   ]
  },
  {
   "cell_type": "code",
   "execution_count": 60,
   "metadata": {},
   "outputs": [],
   "source": [
    "# we have to define which columns we want to scale.\n",
    "col_scale = ['goal', 'blurb_len_w', 'slug_len_w', 'duration_days', 'preparation', 'pledged_per_backer']"
   ]
  },
  {
   "cell_type": "code",
   "execution_count": 61,
   "metadata": {},
   "outputs": [],
   "source": [
    "# Scaling with standard scaler\n",
    "scaler = StandardScaler()\n",
    "X_train_scaled_st = scaler.fit_transform(X_train[col_scale])\n",
    "X_test_scaled_st = scaler.transform(X_test[col_scale])"
   ]
  },
  {
   "cell_type": "code",
   "execution_count": 62,
   "metadata": {},
   "outputs": [],
   "source": [
    "# Concatenating scaled and dummy columns \n",
    "X_train_preprocessed_st = np.concatenate([X_train_scaled_st, X_train.drop(col_scale, axis=1)], axis=1)\n",
    "X_test_preprocessed_st = np.concatenate([X_test_scaled_st, X_test.drop(col_scale, axis=1)], axis=1)"
   ]
  },
  {
   "cell_type": "code",
   "execution_count": 63,
   "metadata": {},
   "outputs": [
    {
     "data": {
      "text/html": [
       "<div>\n",
       "<style scoped>\n",
       "    .dataframe tbody tr th:only-of-type {\n",
       "        vertical-align: middle;\n",
       "    }\n",
       "\n",
       "    .dataframe tbody tr th {\n",
       "        vertical-align: top;\n",
       "    }\n",
       "\n",
       "    .dataframe thead th {\n",
       "        text-align: right;\n",
       "    }\n",
       "</style>\n",
       "<table border=\"1\" class=\"dataframe\">\n",
       "  <thead>\n",
       "    <tr style=\"text-align: right;\">\n",
       "      <th></th>\n",
       "      <th>goal</th>\n",
       "      <th>blurb_len_w</th>\n",
       "      <th>slug_len_w</th>\n",
       "      <th>duration_days</th>\n",
       "      <th>preparation</th>\n",
       "      <th>pledged_per_backer</th>\n",
       "      <th>parent_name_Art</th>\n",
       "      <th>parent_name_Design</th>\n",
       "      <th>parent_name_Film &amp; Video</th>\n",
       "      <th>parent_name_Games</th>\n",
       "      <th>parent_name_Photography</th>\n",
       "      <th>parent_name_Technology</th>\n",
       "      <th>time_yr_q1</th>\n",
       "      <th>time_yr_q2</th>\n",
       "      <th>time_yr_q3</th>\n",
       "      <th>time_yr_q4</th>\n",
       "    </tr>\n",
       "  </thead>\n",
       "  <tbody>\n",
       "    <tr>\n",
       "      <th>9821</th>\n",
       "      <td>4185.50</td>\n",
       "      <td>20</td>\n",
       "      <td>7</td>\n",
       "      <td>30</td>\n",
       "      <td>0</td>\n",
       "      <td>52</td>\n",
       "      <td>0</td>\n",
       "      <td>0</td>\n",
       "      <td>0</td>\n",
       "      <td>0</td>\n",
       "      <td>0</td>\n",
       "      <td>1</td>\n",
       "      <td>0</td>\n",
       "      <td>0</td>\n",
       "      <td>0</td>\n",
       "      <td>1</td>\n",
       "    </tr>\n",
       "    <tr>\n",
       "      <th>28127</th>\n",
       "      <td>50000.00</td>\n",
       "      <td>22</td>\n",
       "      <td>9</td>\n",
       "      <td>30</td>\n",
       "      <td>160</td>\n",
       "      <td>640</td>\n",
       "      <td>0</td>\n",
       "      <td>0</td>\n",
       "      <td>0</td>\n",
       "      <td>0</td>\n",
       "      <td>0</td>\n",
       "      <td>1</td>\n",
       "      <td>1</td>\n",
       "      <td>0</td>\n",
       "      <td>0</td>\n",
       "      <td>0</td>\n",
       "    </tr>\n",
       "    <tr>\n",
       "      <th>38231</th>\n",
       "      <td>500.00</td>\n",
       "      <td>20</td>\n",
       "      <td>3</td>\n",
       "      <td>30</td>\n",
       "      <td>40</td>\n",
       "      <td>68</td>\n",
       "      <td>1</td>\n",
       "      <td>0</td>\n",
       "      <td>0</td>\n",
       "      <td>0</td>\n",
       "      <td>0</td>\n",
       "      <td>0</td>\n",
       "      <td>0</td>\n",
       "      <td>1</td>\n",
       "      <td>0</td>\n",
       "      <td>0</td>\n",
       "    </tr>\n",
       "    <tr>\n",
       "      <th>61633</th>\n",
       "      <td>2500.00</td>\n",
       "      <td>16</td>\n",
       "      <td>2</td>\n",
       "      <td>27</td>\n",
       "      <td>10</td>\n",
       "      <td>28</td>\n",
       "      <td>0</td>\n",
       "      <td>0</td>\n",
       "      <td>0</td>\n",
       "      <td>0</td>\n",
       "      <td>1</td>\n",
       "      <td>0</td>\n",
       "      <td>1</td>\n",
       "      <td>0</td>\n",
       "      <td>0</td>\n",
       "      <td>0</td>\n",
       "    </tr>\n",
       "    <tr>\n",
       "      <th>35844</th>\n",
       "      <td>16000.00</td>\n",
       "      <td>20</td>\n",
       "      <td>6</td>\n",
       "      <td>25</td>\n",
       "      <td>4</td>\n",
       "      <td>343</td>\n",
       "      <td>0</td>\n",
       "      <td>0</td>\n",
       "      <td>1</td>\n",
       "      <td>0</td>\n",
       "      <td>0</td>\n",
       "      <td>0</td>\n",
       "      <td>0</td>\n",
       "      <td>1</td>\n",
       "      <td>0</td>\n",
       "      <td>0</td>\n",
       "    </tr>\n",
       "    <tr>\n",
       "      <th>...</th>\n",
       "      <td>...</td>\n",
       "      <td>...</td>\n",
       "      <td>...</td>\n",
       "      <td>...</td>\n",
       "      <td>...</td>\n",
       "      <td>...</td>\n",
       "      <td>...</td>\n",
       "      <td>...</td>\n",
       "      <td>...</td>\n",
       "      <td>...</td>\n",
       "      <td>...</td>\n",
       "      <td>...</td>\n",
       "      <td>...</td>\n",
       "      <td>...</td>\n",
       "      <td>...</td>\n",
       "      <td>...</td>\n",
       "    </tr>\n",
       "    <tr>\n",
       "      <th>14641</th>\n",
       "      <td>50000.00</td>\n",
       "      <td>21</td>\n",
       "      <td>9</td>\n",
       "      <td>31</td>\n",
       "      <td>192</td>\n",
       "      <td>130</td>\n",
       "      <td>0</td>\n",
       "      <td>0</td>\n",
       "      <td>0</td>\n",
       "      <td>0</td>\n",
       "      <td>0</td>\n",
       "      <td>1</td>\n",
       "      <td>1</td>\n",
       "      <td>0</td>\n",
       "      <td>0</td>\n",
       "      <td>0</td>\n",
       "    </tr>\n",
       "    <tr>\n",
       "      <th>43152</th>\n",
       "      <td>5309.27</td>\n",
       "      <td>21</td>\n",
       "      <td>5</td>\n",
       "      <td>29</td>\n",
       "      <td>20</td>\n",
       "      <td>0</td>\n",
       "      <td>0</td>\n",
       "      <td>0</td>\n",
       "      <td>0</td>\n",
       "      <td>0</td>\n",
       "      <td>1</td>\n",
       "      <td>0</td>\n",
       "      <td>1</td>\n",
       "      <td>0</td>\n",
       "      <td>0</td>\n",
       "      <td>0</td>\n",
       "    </tr>\n",
       "    <tr>\n",
       "      <th>31522</th>\n",
       "      <td>1100.00</td>\n",
       "      <td>16</td>\n",
       "      <td>7</td>\n",
       "      <td>60</td>\n",
       "      <td>9</td>\n",
       "      <td>5</td>\n",
       "      <td>1</td>\n",
       "      <td>0</td>\n",
       "      <td>0</td>\n",
       "      <td>0</td>\n",
       "      <td>0</td>\n",
       "      <td>0</td>\n",
       "      <td>0</td>\n",
       "      <td>1</td>\n",
       "      <td>0</td>\n",
       "      <td>0</td>\n",
       "    </tr>\n",
       "    <tr>\n",
       "      <th>18438</th>\n",
       "      <td>10000.00</td>\n",
       "      <td>22</td>\n",
       "      <td>8</td>\n",
       "      <td>30</td>\n",
       "      <td>3</td>\n",
       "      <td>60</td>\n",
       "      <td>0</td>\n",
       "      <td>1</td>\n",
       "      <td>0</td>\n",
       "      <td>0</td>\n",
       "      <td>0</td>\n",
       "      <td>0</td>\n",
       "      <td>1</td>\n",
       "      <td>0</td>\n",
       "      <td>0</td>\n",
       "      <td>0</td>\n",
       "    </tr>\n",
       "    <tr>\n",
       "      <th>49678</th>\n",
       "      <td>10000.00</td>\n",
       "      <td>24</td>\n",
       "      <td>10</td>\n",
       "      <td>30</td>\n",
       "      <td>21</td>\n",
       "      <td>69</td>\n",
       "      <td>1</td>\n",
       "      <td>0</td>\n",
       "      <td>0</td>\n",
       "      <td>0</td>\n",
       "      <td>0</td>\n",
       "      <td>0</td>\n",
       "      <td>0</td>\n",
       "      <td>1</td>\n",
       "      <td>0</td>\n",
       "      <td>0</td>\n",
       "    </tr>\n",
       "  </tbody>\n",
       "</table>\n",
       "<p>65629 rows × 16 columns</p>\n",
       "</div>"
      ],
      "text/plain": [
       "           goal  blurb_len_w  slug_len_w  duration_days  preparation  \\\n",
       "9821    4185.50           20           7             30            0   \n",
       "28127  50000.00           22           9             30          160   \n",
       "38231    500.00           20           3             30           40   \n",
       "61633   2500.00           16           2             27           10   \n",
       "35844  16000.00           20           6             25            4   \n",
       "...         ...          ...         ...            ...          ...   \n",
       "14641  50000.00           21           9             31          192   \n",
       "43152   5309.27           21           5             29           20   \n",
       "31522   1100.00           16           7             60            9   \n",
       "18438  10000.00           22           8             30            3   \n",
       "49678  10000.00           24          10             30           21   \n",
       "\n",
       "       pledged_per_backer  parent_name_Art  parent_name_Design  \\\n",
       "9821                   52                0                   0   \n",
       "28127                 640                0                   0   \n",
       "38231                  68                1                   0   \n",
       "61633                  28                0                   0   \n",
       "35844                 343                0                   0   \n",
       "...                   ...              ...                 ...   \n",
       "14641                 130                0                   0   \n",
       "43152                   0                0                   0   \n",
       "31522                   5                1                   0   \n",
       "18438                  60                0                   1   \n",
       "49678                  69                1                   0   \n",
       "\n",
       "       parent_name_Film & Video  parent_name_Games  parent_name_Photography  \\\n",
       "9821                          0                  0                        0   \n",
       "28127                         0                  0                        0   \n",
       "38231                         0                  0                        0   \n",
       "61633                         0                  0                        1   \n",
       "35844                         1                  0                        0   \n",
       "...                         ...                ...                      ...   \n",
       "14641                         0                  0                        0   \n",
       "43152                         0                  0                        1   \n",
       "31522                         0                  0                        0   \n",
       "18438                         0                  0                        0   \n",
       "49678                         0                  0                        0   \n",
       "\n",
       "       parent_name_Technology  time_yr_q1  time_yr_q2  time_yr_q3  time_yr_q4  \n",
       "9821                        1           0           0           0           1  \n",
       "28127                       1           1           0           0           0  \n",
       "38231                       0           0           1           0           0  \n",
       "61633                       0           1           0           0           0  \n",
       "35844                       0           0           1           0           0  \n",
       "...                       ...         ...         ...         ...         ...  \n",
       "14641                       1           1           0           0           0  \n",
       "43152                       0           1           0           0           0  \n",
       "31522                       0           0           1           0           0  \n",
       "18438                       0           1           0           0           0  \n",
       "49678                       0           0           1           0           0  \n",
       "\n",
       "[65629 rows x 16 columns]"
      ]
     },
     "execution_count": 63,
     "metadata": {},
     "output_type": "execute_result"
    }
   ],
   "source": [
    "X_train"
   ]
  },
  {
   "cell_type": "markdown",
   "metadata": {},
   "source": [
    "## Logistic Regression\n",
    "We start with a simple logistic regression. We fit the model and print the confusion matrix and the classification report."
   ]
  },
  {
   "cell_type": "code",
   "execution_count": 64,
   "metadata": {},
   "outputs": [],
   "source": [
    "def plot_confusion_matrix(cm, classes,\n",
    "                          normalize=False,\n",
    "                          title='Confusion matrix',\n",
    "                          cmap=plt.cm.Blues):\n",
    "    \"\"\"\n",
    "    This function prints and plots the confusion matrix.\n",
    "    Normalization can be applied by setting `normalize=True`.\n",
    "    \"\"\"\n",
    "    if normalize:\n",
    "        cm = cm.astype('float') / cm.sum(axis=1)[:, np.newaxis]\n",
    "        print(\"Normalized confusion matrix\")\n",
    "    else:\n",
    "        print('Confusion matrix, without normalization')\n",
    "\n",
    "    print(cm)\n",
    "\n",
    "    plt.imshow(cm, interpolation='nearest', cmap=cmap)\n",
    "    plt.title(title)\n",
    "    plt.colorbar()\n",
    "    tick_marks = np.arange(len(classes))\n",
    "    plt.xticks(tick_marks, classes, rotation=45)\n",
    "    plt.yticks(tick_marks, classes)\n",
    "\n",
    "    fmt = '.2f' if normalize else 'd'\n",
    "    thresh = cm.max() / 2.\n",
    "    for i, j in itertools.product(range(cm.shape[0]), range(cm.shape[1])):\n",
    "        plt.text(j, i, format(cm[i, j], fmt),\n",
    "                 horizontalalignment=\"center\",\n",
    "                 color=\"white\" if cm[i, j] > thresh else \"black\")\n",
    "\n",
    "    plt.tight_layout()\n",
    "    plt.ylabel('True label')\n",
    "    plt.xlabel('Predicted label')"
   ]
  },
  {
   "cell_type": "code",
   "execution_count": 65,
   "metadata": {},
   "outputs": [
    {
     "name": "stdout",
     "output_type": "stream",
     "text": [
      "              precision    recall  f1-score   support\n",
      "\n",
      "           0       0.73      0.61      0.66      7732\n",
      "           1       0.70      0.80      0.74      8676\n",
      "\n",
      "    accuracy                           0.71     16408\n",
      "   macro avg       0.71      0.70      0.70     16408\n",
      "weighted avg       0.71      0.71      0.71     16408\n",
      "\n",
      "Confusion matrix, without normalization\n",
      "[[4723 3009]\n",
      " [1767 6909]]\n"
     ]
    },
    {
     "data": {
      "image/png": "[encoded data removed]",
      "text/plain": [
       "<Figure size 432x288 with 2 Axes>"
      ]
     },
     "metadata": {
      "needs_background": "light"
     },
     "output_type": "display_data"
    }
   ],
   "source": [
    "# fit model\n",
    "lr = LogisticRegression()\n",
    "lr.fit(X_train_preprocessed_st, y_train)\n",
    "y_pred = lr.predict(X_test_preprocessed_st)\n",
    "cnf_matrix = confusion_matrix(y_test, y_pred)\n",
    "print(classification_report(y_test, y_pred))\n",
    "\n",
    "# Plot non-normalized confusion matrix\n",
    "plt.figure()\n",
    "plot_confusion_matrix(cnf_matrix, classes=['failed','successful'],normalize= False,  title='Confusion matrix')"
   ]
  },
  {
   "cell_type": "markdown",
   "metadata": {},
   "source": [
    "### Conclusion\n",
    "* For the evaluation of the model we look at the precision of the model. In this case we have a precision of 70 % (6909 true positive/(6909 true positive + 3009 false positive)\n",
    "* That means that 70% of all the projects that are predicted to be successful, in fact have a successful out\n",
    "* In the following we will use an ensemble algorithm to check if we can improve the precision of the model"
   ]
  },
  {
   "cell_type": "markdown",
   "metadata": {},
   "source": [
    "## Random Forrest"
   ]
  },
  {
   "cell_type": "code",
   "execution_count": 66,
   "metadata": {},
   "outputs": [],
   "source": [
    "# Create the model with 100 trees\n",
    "model = RandomForestClassifier(n_estimators=100, \n",
    "                               random_state=42, \n",
    "                               max_features = 'sqrt',\n",
    "                               n_jobs=-1, verbose = 1)"
   ]
  },
  {
   "cell_type": "code",
   "execution_count": 67,
   "metadata": {},
   "outputs": [
    {
     "name": "stderr",
     "output_type": "stream",
     "text": [
      "[Parallel(n_jobs=-1)]: Using backend ThreadingBackend with 8 concurrent workers.\n",
      "[Parallel(n_jobs=-1)]: Done  34 tasks      | elapsed:    1.4s\n",
      "[Parallel(n_jobs=-1)]: Done 100 out of 100 | elapsed:    3.6s finished\n"
     ]
    },
    {
     "data": {
      "text/plain": [
       "RandomForestClassifier(max_features='sqrt', n_jobs=-1, random_state=42,\n",
       "                       verbose=1)"
      ]
     },
     "execution_count": 67,
     "metadata": {},
     "output_type": "execute_result"
    }
   ],
   "source": [
    "# Fit on training data\n",
    "model.fit(X_train_preprocessed_st, y_train)"
   ]
  },
  {
   "cell_type": "code",
   "execution_count": 68,
   "metadata": {},
   "outputs": [
    {
     "name": "stderr",
     "output_type": "stream",
     "text": [
      "[Parallel(n_jobs=8)]: Using backend ThreadingBackend with 8 concurrent workers.\n",
      "[Parallel(n_jobs=8)]: Done  34 tasks      | elapsed:    0.1s\n",
      "[Parallel(n_jobs=8)]: Done 100 out of 100 | elapsed:    0.1s finished\n"
     ]
    }
   ],
   "source": [
    "y_pred = model.predict(X_test_preprocessed_st)"
   ]
  },
  {
   "cell_type": "code",
   "execution_count": 69,
   "metadata": {},
   "outputs": [
    {
     "name": "stdout",
     "output_type": "stream",
     "text": [
      "              precision    recall  f1-score   support\n",
      "\n",
      "           0       0.85      0.73      0.79      7732\n",
      "           1       0.79      0.89      0.83      8676\n",
      "\n",
      "    accuracy                           0.81     16408\n",
      "   macro avg       0.82      0.81      0.81     16408\n",
      "weighted avg       0.82      0.81      0.81     16408\n",
      "\n",
      "Confusion matrix, without normalization\n",
      "[[5624 2108]\n",
      " [ 963 7713]]\n"
     ]
    },
    {
     "data": {
      "image/png": "[encoded data removed]",
      "text/plain": [
       "<Figure size 432x288 with 2 Axes>"
      ]
     },
     "metadata": {
      "needs_background": "light"
     },
     "output_type": "display_data"
    }
   ],
   "source": [
    "# Compute confusion matrix\n",
    "cnf_matrix = confusion_matrix(y_test, y_pred, labels=[0,1])\n",
    "np.set_printoptions(precision=2)\n",
    "\n",
    "print (classification_report(y_test, y_pred))\n",
    "\n",
    "# Plot non-normalized confusion matrix\n",
    "plt.figure()\n",
    "plot_confusion_matrix(cnf_matrix, classes=['failed','successful'],normalize= False,  title='Confusion matrix')"
   ]
  },
  {
   "cell_type": "markdown",
   "metadata": {},
   "source": [
    "* Compared to the logistic regression model, the precision improved to 79%.\n",
    "* Next we try to improve the random forest model by using a gridsearch tune the hyperparameters"
   ]
  },
  {
   "cell_type": "markdown",
   "metadata": {},
   "source": [
    "### Hyperparameter Tuning / Gridsearch"
   ]
  },
  {
   "cell_type": "code",
   "execution_count": 70,
   "metadata": {},
   "outputs": [
    {
     "name": "stdout",
     "output_type": "stream",
     "text": [
      "Fitting 3 folds for each of 10 candidates, totalling 30 fits\n"
     ]
    },
    {
     "name": "stderr",
     "output_type": "stream",
     "text": [
      "[Parallel(n_jobs=-1)]: Using backend LokyBackend with 8 concurrent workers.\n",
      "[Parallel(n_jobs=-1)]: Done   2 tasks      | elapsed:   10.9s\n",
      "[Parallel(n_jobs=-1)]: Done  22 out of  30 | elapsed:  1.0min remaining:   22.0s\n",
      "[Parallel(n_jobs=-1)]: Done  30 out of  30 | elapsed:  1.4min finished\n"
     ]
    },
    {
     "data": {
      "text/plain": [
       "RandomizedSearchCV(cv=3, estimator=RandomForestClassifier(random_state=42),\n",
       "                   n_jobs=-1,\n",
       "                   param_distributions={'bootstrap': [True, False],\n",
       "                                        'max_depth': [None, 3, 3, 3, 4, 4, 4, 5,\n",
       "                                                      5, 5, 6, 6, 6, 7, 7, 7, 8,\n",
       "                                                      8, 8, 9, 9, 9, 10, 10, 10,\n",
       "                                                      11, 11, 12, 12, 12, ...],\n",
       "                                        'max_features': ['auto', 'sqrt', None,\n",
       "                                                         0.5, 0.6, 0.7,\n",
       "                                                         0.7999999999999999,\n",
       "                                                         0.8999999999999999],\n",
       "                                        'max_leaf_nodes': [None, 10, 10, 10, 10,\n",
       "                                                           10, 10, 10, 10, 10,\n",
       "                                                           10, 10, 10, 10, 11,\n",
       "                                                           11, 11, 11, 11, 11,\n",
       "                                                           11, 11, 11, 11, 11,\n",
       "                                                           11, 12, 12, 12, 12, ...],\n",
       "                                        'min_samples_split': [2, 5, 10],\n",
       "                                        'n_estimators': array([ 10,  13,  17,  21,  25,  29,  33,  37,  41,  44,  48,  52,  56,\n",
       "        60,  64,  68,  72,  75,  79,  83,  87,  91,  95,  99, 103, 106,\n",
       "       110, 114, 118, 122, 126, 130, 134, 137, 141, 145, 149, 153, 157,\n",
       "       161, 165, 168, 172, 176, 180, 184, 188, 192, 196, 200])},\n",
       "                   random_state=42, scoring='roc_auc', verbose=5)"
      ]
     },
     "execution_count": 70,
     "metadata": {},
     "output_type": "execute_result"
    }
   ],
   "source": [
    "# Hyperparameter grid\n",
    "param_grid = {\n",
    "    'n_estimators': np.linspace(10, 200).astype(int),\n",
    "    'max_depth': [None] + list(np.linspace(3, 20).astype(int)),\n",
    "    'max_features': ['auto', 'sqrt', None] + list(np.arange(0.5, 1, 0.1)),\n",
    "    'max_leaf_nodes': [None] + list(np.linspace(10, 50, 500).astype(int)),\n",
    "    'min_samples_split': [2, 5, 10],\n",
    "    'bootstrap': [True, False]\n",
    "}\n",
    "# Estimator for use in random search\n",
    "estimator = RandomForestClassifier(random_state = 42)\n",
    "# Create the random search model\n",
    "rs = RandomizedSearchCV(estimator, param_grid, n_jobs = -1, \n",
    "                        scoring = 'roc_auc', cv = 3, \n",
    "                        n_iter = 10, verbose = 5, random_state=42)\n",
    "# Fit \n",
    "rs.fit(X_train_preprocessed_st, y_train)"
   ]
  },
  {
   "cell_type": "code",
   "execution_count": 71,
   "metadata": {},
   "outputs": [
    {
     "data": {
      "text/plain": [
       "{'n_estimators': 196,\n",
       " 'min_samples_split': 10,\n",
       " 'max_leaf_nodes': 49,\n",
       " 'max_features': 0.7,\n",
       " 'max_depth': 17,\n",
       " 'bootstrap': True}"
      ]
     },
     "execution_count": 71,
     "metadata": {},
     "output_type": "execute_result"
    }
   ],
   "source": [
    "rs.best_params_"
   ]
  },
  {
   "cell_type": "code",
   "execution_count": 72,
   "metadata": {},
   "outputs": [],
   "source": [
    "# Create the model with 100 trees\n",
    "model = RandomForestClassifier(n_estimators=196, \n",
    "                               random_state=42, \n",
    "                               min_samples_split=10,\n",
    "                               max_leaf_nodes=49,\n",
    "                               max_features=0.7,\n",
    "                               max_depth=17,\n",
    "                               bootstrap=True,\n",
    "                               n_jobs=-1, verbose = 1)"
   ]
  },
  {
   "cell_type": "code",
   "execution_count": 73,
   "metadata": {},
   "outputs": [
    {
     "name": "stderr",
     "output_type": "stream",
     "text": [
      "[Parallel(n_jobs=-1)]: Using backend ThreadingBackend with 8 concurrent workers.\n",
      "[Parallel(n_jobs=-1)]: Done  34 tasks      | elapsed:    0.8s\n",
      "[Parallel(n_jobs=-1)]: Done 196 out of 196 | elapsed:    4.8s finished\n"
     ]
    },
    {
     "data": {
      "text/plain": [
       "RandomForestClassifier(max_depth=17, max_features=0.7, max_leaf_nodes=49,\n",
       "                       min_samples_split=10, n_estimators=196, n_jobs=-1,\n",
       "                       random_state=42, verbose=1)"
      ]
     },
     "execution_count": 73,
     "metadata": {},
     "output_type": "execute_result"
    }
   ],
   "source": [
    "# Fit on training data\n",
    "model.fit(X_train_preprocessed_st, y_train)"
   ]
  },
  {
   "cell_type": "code",
   "execution_count": 74,
   "metadata": {},
   "outputs": [
    {
     "name": "stderr",
     "output_type": "stream",
     "text": [
      "[Parallel(n_jobs=8)]: Using backend ThreadingBackend with 8 concurrent workers.\n",
      "[Parallel(n_jobs=8)]: Done  34 tasks      | elapsed:    0.0s\n",
      "[Parallel(n_jobs=8)]: Done 196 out of 196 | elapsed:    0.1s finished\n"
     ]
    }
   ],
   "source": [
    "y_pred = model.predict(X_test_preprocessed_st)"
   ]
  },
  {
   "cell_type": "code",
   "execution_count": 75,
   "metadata": {},
   "outputs": [
    {
     "name": "stdout",
     "output_type": "stream",
     "text": [
      "              precision    recall  f1-score   support\n",
      "\n",
      "           0       0.88      0.69      0.77      7732\n",
      "           1       0.77      0.92      0.84      8676\n",
      "\n",
      "    accuracy                           0.81     16408\n",
      "   macro avg       0.83      0.80      0.80     16408\n",
      "weighted avg       0.82      0.81      0.81     16408\n",
      "\n",
      "Confusion matrix, without normalization\n",
      "[[5324 2408]\n",
      " [ 710 7966]]\n"
     ]
    },
    {
     "data": {
      "image/png": "[encoded data removed]",
      "text/plain": [
       "<Figure size 432x288 with 2 Axes>"
      ]
     },
     "metadata": {
      "needs_background": "light"
     },
     "output_type": "display_data"
    }
   ],
   "source": [
    "# Compute confusion matrix\n",
    "cnf_matrix = confusion_matrix(y_test, y_pred, labels=[0,1])\n",
    "np.set_printoptions(precision=2)\n",
    "print (classification_report(y_test, y_pred))\n",
    "# Plot non-normalized confusion matrix\n",
    "plt.figure()\n",
    "plot_confusion_matrix(cnf_matrix, classes=['failed','successful'],normalize= False,  title='Confusion matrix')"
   ]
  },
  {
   "cell_type": "markdown",
   "metadata": {},
   "source": [
    "### Conclusion\n",
    "* When we used the best hyperparameters found in our gridsearch our model shows a higher recall (92%). That means that out of 100 successful projects 92 are correctly classified.\n",
    "* But: the precision of the model decreased to 77%. For us this is the main focus because we do not want avoid that our clients project is classified to be successful but fails in the end. Therefore we will use our initial parameters for the prediciton. "
   ]
  },
  {
   "cell_type": "markdown",
   "metadata": {},
   "source": [
    "# Regression\n",
    "* As an additional service for our stakeholder we want to predict how much money he can pledge if his project is successful\n",
    "* To do so we will use a regression model\n",
    "* But first, we will have to do some modification to our dataset. We will drop all unsuccessful projects because projects only receive money in the case of success (pledged amount is higher than the goal)."
   ]
  },
  {
   "cell_type": "code",
   "execution_count": 76,
   "metadata": {},
   "outputs": [],
   "source": [
    "# creaste new dataframe for regression\n",
    "df_r = df.copy()"
   ]
  },
  {
   "cell_type": "markdown",
   "metadata": {},
   "source": [
    "Our target value for the prediction is the column \"usd_pledged\". "
   ]
  },
  {
   "cell_type": "code",
   "execution_count": 77,
   "metadata": {},
   "outputs": [],
   "source": [
    "# drop unsuccessful projects\n",
    "df_r = df_r.drop(df_r[df_r['state'] == \"failed\" ].index)"
   ]
  },
  {
   "cell_type": "markdown",
   "metadata": {},
   "source": [
    "For regression we don't need the column \"state\" anymore. So we drop the column."
   ]
  },
  {
   "cell_type": "code",
   "execution_count": 78,
   "metadata": {},
   "outputs": [],
   "source": [
    "df_r = drop_columns(df_r, ['state'])"
   ]
  },
  {
   "cell_type": "markdown",
   "metadata": {},
   "source": [
    "## Training the Model\n",
    "### Train-Test-Split\n",
    "Before we fit our model we have to split our data into test and train data."
   ]
  },
  {
   "cell_type": "code",
   "execution_count": 79,
   "metadata": {},
   "outputs": [],
   "source": [
    "y = df_r['usd_pledged']\n",
    "X = df_r.drop('usd_pledged', axis=1)"
   ]
  },
  {
   "cell_type": "code",
   "execution_count": 80,
   "metadata": {},
   "outputs": [],
   "source": [
    "# Train-test-split\n",
    "X_train, X_test, y_train, y_test = train_test_split(X, y, test_size=0.2, random_state=42)"
   ]
  },
  {
   "cell_type": "markdown",
   "metadata": {},
   "source": [
    "### Remove outlier\n",
    "Because our client does not want to pledge a very small amount and also no very high amount, we will remove the extreme \"outlier\""
   ]
  },
  {
   "cell_type": "code",
   "execution_count": 81,
   "metadata": {},
   "outputs": [],
   "source": [
    "# we concatenate the X_train and y_train sets in order to remove the rows from both sets.\n",
    "new = pd.concat([X_train, y_train], axis=1)\n",
    "\n",
    "# define the borders for extreme values\n",
    "lower = new['usd_pledged'].quantile(0.025)\n",
    "upper = new['usd_pledged'].quantile(0.975)\n",
    "\n",
    "# remove extreme values\n",
    "new_2 = new[(new['usd_pledged'] < upper) & (new['usd_pledged'] > lower)]\n",
    "\n",
    "# now we split again into y_train and X_train\n",
    "y_train = new_2['usd_pledged']\n",
    "X_train = new_2.drop('usd_pledged', axis=1)"
   ]
  },
  {
   "cell_type": "markdown",
   "metadata": {},
   "source": [
    "### Scaling"
   ]
  },
  {
   "cell_type": "code",
   "execution_count": 82,
   "metadata": {},
   "outputs": [],
   "source": [
    "# Scaling with standard scaler\n",
    "scaler = StandardScaler()\n",
    "X_train_scaled_st = scaler.fit_transform(X_train[col_scale])\n",
    "X_test_scaled_st = scaler.transform(X_test[col_scale])"
   ]
  },
  {
   "cell_type": "code",
   "execution_count": 83,
   "metadata": {},
   "outputs": [],
   "source": [
    "# Concatenating scaled and dummy columns \n",
    "X_train_preprocessed_st = np.concatenate([X_train_scaled_st, X_train.drop(col_scale, axis=1)], axis=1)\n",
    "X_test_preprocessed_st = np.concatenate([X_test_scaled_st, X_test.drop(col_scale, axis=1)], axis=1)"
   ]
  },
  {
   "cell_type": "markdown",
   "metadata": {},
   "source": [
    "## Polynomial Regression\n",
    "We start with a simple polynomial regression with second degree which is a linear regression. We fit the model and print the root mean squared error, mean percentage error, $R^2$."
   ]
  },
  {
   "cell_type": "code",
   "execution_count": 84,
   "metadata": {},
   "outputs": [],
   "source": [
    "# Compute mean absolute percentage error\n",
    "def mean_absolute_percentage_error(y_train, y_pred): \n",
    "    y_train, y_pred = np.array(y_train), np.array(y_pred)\n",
    "    return np.mean(np.abs((y_train - y_pred) / y_train)) * 100"
   ]
  },
  {
   "cell_type": "code",
   "execution_count": 85,
   "metadata": {},
   "outputs": [
    {
     "data": {
      "text/plain": [
       "(8676, 17)"
      ]
     },
     "execution_count": 85,
     "metadata": {},
     "output_type": "execute_result"
    }
   ],
   "source": [
    "poly_reg = PolynomialFeatures(degree=1)\n",
    "X_poly = poly_reg.fit_transform(X_train_preprocessed_st)\n",
    "pol_reg = LinearRegression()\n",
    "pol_reg.fit(X_poly, y_train)\n",
    "\n",
    "X_poly_test = poly_reg.fit_transform(X_test_preprocessed_st)\n",
    "X_poly_test.shape"
   ]
  },
  {
   "cell_type": "code",
   "execution_count": 86,
   "metadata": {},
   "outputs": [
    {
     "name": "stdout",
     "output_type": "stream",
     "text": [
      "RMSE: 95536.25607809285\n",
      "MAPE: 552.0544006144306\n",
      "R2: 0.2907157758680152\n"
     ]
    }
   ],
   "source": [
    "y_pred = pol_reg.predict(X_poly_test)\n",
    "\n",
    "print(\"RMSE:\", np.sqrt(mean_squared_error(y_test, y_pred)))\n",
    "print(\"MAPE:\", mean_absolute_percentage_error(y_test, y_pred))\n",
    "print(\"R2:\", r2_score(y_test, y_pred))"
   ]
  },
  {
   "cell_type": "markdown",
   "metadata": {},
   "source": [
    "If you look at the different errors, you can see that the root mean squared error is very high due to our goal value of approximately 20000 USD. This is also reflected in the mean absolute percentage error which indicates that the average predicted value is 552% off. This means that our model is improvable. We saw in our EDA that some features seem not linear e.g. duration and preparation. Therefore it´s better nor using a linear model. Let´s try the polynomial regression again with a higher degree and compare the results. "
   ]
  },
  {
   "cell_type": "code",
   "execution_count": 87,
   "metadata": {},
   "outputs": [
    {
     "data": {
      "text/plain": [
       "(8676, 153)"
      ]
     },
     "execution_count": 87,
     "metadata": {},
     "output_type": "execute_result"
    }
   ],
   "source": [
    "poly_reg = PolynomialFeatures(degree=2)\n",
    "X_poly = poly_reg.fit_transform(X_train_preprocessed_st)\n",
    "pol_reg = LinearRegression()\n",
    "pol_reg.fit(X_poly, y_train)\n",
    "\n",
    "X_poly_test = poly_reg.fit_transform(X_test_preprocessed_st)\n",
    "X_poly_test.shape"
   ]
  },
  {
   "cell_type": "code",
   "execution_count": 88,
   "metadata": {},
   "outputs": [
    {
     "name": "stdout",
     "output_type": "stream",
     "text": [
      "RMSE: 135837.35824409494\n",
      "MAPE: 276.948558905549\n",
      "R2: -0.4339114023367132\n"
     ]
    }
   ],
   "source": [
    "y_pred = pol_reg.predict(X_poly_test)\n",
    "\n",
    "print(\"RMSE:\", np.sqrt(mean_squared_error(y_test, y_pred)))\n",
    "print(\"MAPE:\", mean_absolute_percentage_error(y_test, y_pred))\n",
    "print(\"R2:\", r2_score(y_test, y_pred))"
   ]
  },
  {
   "cell_type": "markdown",
   "metadata": {},
   "source": [
    "With degree 2 the root mean squared error got worse but the mean average percentage error improved. In our case the MAPE is more important because very small and very big values are relativized. Let´s also check if the MAPE gets better with degree 3."
   ]
  },
  {
   "cell_type": "code",
   "execution_count": 89,
   "metadata": {},
   "outputs": [
    {
     "data": {
      "text/plain": [
       "(8676, 969)"
      ]
     },
     "execution_count": 89,
     "metadata": {},
     "output_type": "execute_result"
    }
   ],
   "source": [
    "poly_reg = PolynomialFeatures(degree=3)\n",
    "X_poly = poly_reg.fit_transform(X_train_preprocessed_st)\n",
    "pol_reg = LinearRegression()\n",
    "pol_reg.fit(X_poly, y_train)\n",
    "\n",
    "X_poly_test = poly_reg.fit_transform(X_test_preprocessed_st)\n",
    "X_poly_test.shape"
   ]
  },
  {
   "cell_type": "code",
   "execution_count": 90,
   "metadata": {},
   "outputs": [
    {
     "name": "stdout",
     "output_type": "stream",
     "text": [
      "RMSE: 750303.1193302529\n",
      "MAPE: 292.1948652455093\n",
      "R2: -42.74791589655732\n"
     ]
    }
   ],
   "source": [
    "y_pred = pol_reg.predict(X_poly_test)\n",
    "\n",
    "print(\"RMSE:\", np.sqrt(mean_squared_error(y_test, y_pred)))\n",
    "print(\"MAPE:\", mean_absolute_percentage_error(y_test, y_pred))\n",
    "print(\"R2:\", r2_score(y_test, y_pred))"
   ]
  },
  {
   "cell_type": "markdown",
   "metadata": {},
   "source": [
    "As you can see the MAPE got worse again. That´s the reason we take the model with second degree."
   ]
  },
  {
   "cell_type": "markdown",
   "metadata": {},
   "source": [
    "## Adaboost\n",
    "In general using Ensemble Methods like Adaboost can improve regression results. "
   ]
  },
  {
   "cell_type": "code",
   "execution_count": 91,
   "metadata": {},
   "outputs": [],
   "source": [
    "X_train_preprocessed_st, y_train = make_regression(n_features=16, n_informative=2,\n",
    "                       random_state=42, shuffle=False)\n",
    "\n",
    "regr = AdaBoostRegressor(random_state=42, n_estimators=5)\n",
    "regr.fit(X_train_preprocessed_st, y_train)\n",
    "\n",
    "y_pred = regr.predict(X_test_preprocessed_st)"
   ]
  },
  {
   "cell_type": "code",
   "execution_count": 92,
   "metadata": {},
   "outputs": [
    {
     "name": "stdout",
     "output_type": "stream",
     "text": [
      "RMSE: 117326.20707454011\n",
      "MAPE: 106.0216597521679\n",
      "R2: -0.0697293867372506\n"
     ]
    }
   ],
   "source": [
    "print(\"RMSE:\", np.sqrt(mean_squared_error(y_test, y_pred)))\n",
    "print(\"MAPE:\", mean_absolute_percentage_error(y_test, y_pred))\n",
    "print(\"R2:\", r2_score(y_test, y_pred))"
   ]
  },
  {
   "cell_type": "markdown",
   "metadata": {},
   "source": [
    "With Adaboost we achieved a better result as with Polynomial Regression. \n",
    "\n",
    "## Future Work\n",
    "* We could use another model e.g. Random Forest \n",
    "* Error analysis to assess the reasons for the deviations e.g. plotting residuals\n",
    "* Further feature engineering based on error analysis"
   ]
  }
 ],
 "metadata": {
  "kernelspec": {
   "display_name": "Python 3",
   "language": "python",
   "name": "python3"
  },
  "language_info": {
   "codemirror_mode": {
    "name": "ipython",
    "version": 3
   },
   "file_extension": ".py",
   "mimetype": "text/x-python",
   "name": "python",
   "nbconvert_exporter": "python",
   "pygments_lexer": "ipython3",
   "version": "3.8.3"
  }
 },
 "nbformat": 4,
 "nbformat_minor": 4
}
