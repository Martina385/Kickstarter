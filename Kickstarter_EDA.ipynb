{
 "cells": [
  {
   "cell_type": "markdown",
   "metadata": {},
   "source": [
    "# Kickstarter - Meme Master Memory\n",
    "\n",
    "by Martina Gottschalk, Petra Pinger and Ole Hansen \n",
    "\n",
    "## Business case: \n",
    "Mr. Brain invented a Meme Master Memory (a memory game with videos/gifs) and needs money for the implementation. He wants to do the project in 4 weeks, wants to get 100,000USD and wants to launch the campaign in summertime in the category photography.\n",
    "Under these circumstances, will the project be successful? Furthermore we want to recommend Mr. Brain different improvements to increase his chance for success. In addition we also want to predict his potential pledged amount.\n",
    "\n",
    "## Approach:\n",
    "\n",
    "* Business Understanding:\n",
    "    * Kickstarter is a Crowdfunding website that enables entrepreneurs to fund money for their business ideas.\n",
    "    * With regard to our business case we are looking for the features that might be relavant for the success of the project, especially with regard to the characteristics of our stakeholders project (e.g., product category, season) \n",
    "    * Evaluation metrics: It is in our stakeholders interest that we are confident in our prediction of success and that we avoid the case that our stakeholder puts a lot of effort in a project that is likely to fail. In other words we want to avoid a false positive prediction and that is why we choose precision as our main evlaution metric.\n",
    "<br/>\n",
    "<br/>\n",
    "* Data Collection \n",
    "    * For our data analysis and modeling we use a well known kaggle dataset. Our data science bootcamp teachers gave us the dataset but similar datasets can be found online.\n",
    "    * An overview of all the columns in the dataset can be found below.\n",
    "<br/>\n",
    "<br/>\n",
    "* EDA:\n",
    "    * see Jupyter Notebook \"Kickstarter_EDA\" for an EDA \n",
    "<br/>\n",
    "<br/>\n",
    "* Feature Engineering / Data Cleaning:\n",
    "    * see Jupyter Notebook \"Kickstarter\" for data preparation, cleaning and feature engineering\n",
    "<br/> \n",
    "<br/>\n",
    "* Predictive Modeling\n",
    "    * We will use a simple logistic regression, SVM and random forest to predict the success of the project. The classification models can be found in the Jupyter Notebook \"Kickstarter\"\n",
    "    * For the prediciton of the total amount that the stakeholder could pledge we use a polynomial regression, random forest and Adaboost. This is still work in progess. First models do not show a reasonable fit and further analyses might be needed.\n",
    "<br/>\n",
    "<br/>\n",
    "* Stakeholder Presentation  \n",
    "\n",
    "## EDA\n",
    "Goal of the EDA is to get an overview of relevant features for the business case. In the EDA we check the distributions of different features and our target. This final notebook contains a summary of all relevant plots and charts. Our analysis was guided by the following assumptions.\n",
    "\n",
    "### Assumptions\n",
    "* The category in which the project is published has an impact on the success. For example projects published in the game category are more successful.\n",
    "* The season in which the project is launched is important.\n",
    "* Longer preparation and duration time influences the chance of success.\n",
    "* The goal shouldn´t be set too high."
   ]
  },
  {
   "cell_type": "code",
   "execution_count": 1,
   "metadata": {},
   "outputs": [],
   "source": [
    "# import packages\n",
    "import pandas as pd\n",
    "import numpy as np\n",
    "import seaborn as sns\n",
    "import time\n",
    "import datetime as dt\n",
    "import json\n",
    "import matplotlib.pyplot as plt"
   ]
  },
  {
   "cell_type": "code",
   "execution_count": 2,
   "metadata": {},
   "outputs": [],
   "source": [
    "# read in data\n",
    "df = pd.read_csv('data/Kickstarter_merged.csv', index_col=0)"
   ]
  },
  {
   "cell_type": "code",
   "execution_count": 3,
   "metadata": {},
   "outputs": [
    {
     "name": "stdout",
     "output_type": "stream",
     "text": [
      "<class 'pandas.core.frame.DataFrame'>\n",
      "Int64Index: 209222 entries, 0 to 209221\n",
      "Data columns (total 37 columns):\n",
      " #   Column                    Non-Null Count   Dtype  \n",
      "---  ------                    --------------   -----  \n",
      " 0   backers_count             209222 non-null  int64  \n",
      " 1   blurb                     209214 non-null  object \n",
      " 2   category                  209222 non-null  object \n",
      " 3   converted_pledged_amount  209222 non-null  int64  \n",
      " 4   country                   209222 non-null  object \n",
      " 5   created_at                209222 non-null  int64  \n",
      " 6   creator                   209222 non-null  object \n",
      " 7   currency                  209222 non-null  object \n",
      " 8   currency_symbol           209222 non-null  object \n",
      " 9   currency_trailing_code    209222 non-null  bool   \n",
      " 10  current_currency          209222 non-null  object \n",
      " 11  deadline                  209222 non-null  int64  \n",
      " 12  disable_communication     209222 non-null  bool   \n",
      " 13  friends                   300 non-null     object \n",
      " 14  fx_rate                   209222 non-null  float64\n",
      " 15  goal                      209222 non-null  float64\n",
      " 16  id                        209222 non-null  int64  \n",
      " 17  is_backing                300 non-null     object \n",
      " 18  is_starrable              209222 non-null  bool   \n",
      " 19  is_starred                300 non-null     object \n",
      " 20  launched_at               209222 non-null  int64  \n",
      " 21  location                  208996 non-null  object \n",
      " 22  name                      209222 non-null  object \n",
      " 23  permissions               300 non-null     object \n",
      " 24  photo                     209222 non-null  object \n",
      " 25  pledged                   209222 non-null  float64\n",
      " 26  profile                   209222 non-null  object \n",
      " 27  slug                      209222 non-null  object \n",
      " 28  source_url                209222 non-null  object \n",
      " 29  spotlight                 209222 non-null  bool   \n",
      " 30  staff_pick                209222 non-null  bool   \n",
      " 31  state                     209222 non-null  object \n",
      " 32  state_changed_at          209222 non-null  int64  \n",
      " 33  static_usd_rate           209222 non-null  float64\n",
      " 34  urls                      209222 non-null  object \n",
      " 35  usd_pledged               209222 non-null  float64\n",
      " 36  usd_type                  208742 non-null  object \n",
      "dtypes: bool(5), float64(5), int64(7), object(20)\n",
      "memory usage: 53.7+ MB\n"
     ]
    }
   ],
   "source": [
    "df.info()"
   ]
  },
  {
   "cell_type": "code",
   "execution_count": 4,
   "metadata": {},
   "outputs": [
    {
     "data": {
      "text/html": [
       "<div>\n",
       "<style scoped>\n",
       "    .dataframe tbody tr th:only-of-type {\n",
       "        vertical-align: middle;\n",
       "    }\n",
       "\n",
       "    .dataframe tbody tr th {\n",
       "        vertical-align: top;\n",
       "    }\n",
       "\n",
       "    .dataframe thead th {\n",
       "        text-align: right;\n",
       "    }\n",
       "</style>\n",
       "<table border=\"1\" class=\"dataframe\">\n",
       "  <thead>\n",
       "    <tr style=\"text-align: right;\">\n",
       "      <th></th>\n",
       "      <th>backers_count</th>\n",
       "      <th>converted_pledged_amount</th>\n",
       "      <th>created_at</th>\n",
       "      <th>deadline</th>\n",
       "      <th>fx_rate</th>\n",
       "      <th>goal</th>\n",
       "      <th>id</th>\n",
       "      <th>launched_at</th>\n",
       "      <th>pledged</th>\n",
       "      <th>state_changed_at</th>\n",
       "      <th>static_usd_rate</th>\n",
       "      <th>usd_pledged</th>\n",
       "    </tr>\n",
       "  </thead>\n",
       "  <tbody>\n",
       "    <tr>\n",
       "      <th>count</th>\n",
       "      <td>209222.000000</td>\n",
       "      <td>2.092220e+05</td>\n",
       "      <td>2.092220e+05</td>\n",
       "      <td>2.092220e+05</td>\n",
       "      <td>209222.000000</td>\n",
       "      <td>2.092220e+05</td>\n",
       "      <td>2.092220e+05</td>\n",
       "      <td>2.092220e+05</td>\n",
       "      <td>2.092220e+05</td>\n",
       "      <td>2.092220e+05</td>\n",
       "      <td>209222.000000</td>\n",
       "      <td>2.092220e+05</td>\n",
       "    </tr>\n",
       "    <tr>\n",
       "      <th>mean</th>\n",
       "      <td>145.419057</td>\n",
       "      <td>1.289290e+04</td>\n",
       "      <td>1.456089e+09</td>\n",
       "      <td>1.463033e+09</td>\n",
       "      <td>0.994857</td>\n",
       "      <td>4.917604e+04</td>\n",
       "      <td>1.073222e+09</td>\n",
       "      <td>1.460206e+09</td>\n",
       "      <td>1.881403e+04</td>\n",
       "      <td>1.462838e+09</td>\n",
       "      <td>1.010757</td>\n",
       "      <td>1.289213e+04</td>\n",
       "    </tr>\n",
       "    <tr>\n",
       "      <th>std</th>\n",
       "      <td>885.967976</td>\n",
       "      <td>8.889414e+04</td>\n",
       "      <td>6.339711e+07</td>\n",
       "      <td>6.305618e+07</td>\n",
       "      <td>0.211654</td>\n",
       "      <td>1.179427e+06</td>\n",
       "      <td>6.198051e+08</td>\n",
       "      <td>6.309029e+07</td>\n",
       "      <td>3.229596e+05</td>\n",
       "      <td>6.290421e+07</td>\n",
       "      <td>0.231893</td>\n",
       "      <td>8.890124e+04</td>\n",
       "    </tr>\n",
       "    <tr>\n",
       "      <th>min</th>\n",
       "      <td>0.000000</td>\n",
       "      <td>0.000000e+00</td>\n",
       "      <td>1.240366e+09</td>\n",
       "      <td>1.241334e+09</td>\n",
       "      <td>0.008966</td>\n",
       "      <td>1.000000e-02</td>\n",
       "      <td>8.624000e+03</td>\n",
       "      <td>1.240603e+09</td>\n",
       "      <td>0.000000e+00</td>\n",
       "      <td>1.241334e+09</td>\n",
       "      <td>0.008771</td>\n",
       "      <td>0.000000e+00</td>\n",
       "    </tr>\n",
       "    <tr>\n",
       "      <th>25%</th>\n",
       "      <td>4.000000</td>\n",
       "      <td>1.060000e+02</td>\n",
       "      <td>1.413317e+09</td>\n",
       "      <td>1.420607e+09</td>\n",
       "      <td>1.000000</td>\n",
       "      <td>1.500000e+03</td>\n",
       "      <td>5.351054e+08</td>\n",
       "      <td>1.417639e+09</td>\n",
       "      <td>1.100000e+02</td>\n",
       "      <td>1.420485e+09</td>\n",
       "      <td>1.000000</td>\n",
       "      <td>1.060014e+02</td>\n",
       "    </tr>\n",
       "    <tr>\n",
       "      <th>50%</th>\n",
       "      <td>27.000000</td>\n",
       "      <td>1.537000e+03</td>\n",
       "      <td>1.457895e+09</td>\n",
       "      <td>1.464754e+09</td>\n",
       "      <td>1.000000</td>\n",
       "      <td>5.000000e+03</td>\n",
       "      <td>1.074579e+09</td>\n",
       "      <td>1.461924e+09</td>\n",
       "      <td>1.556000e+03</td>\n",
       "      <td>1.464709e+09</td>\n",
       "      <td>1.000000</td>\n",
       "      <td>1.537358e+03</td>\n",
       "    </tr>\n",
       "    <tr>\n",
       "      <th>75%</th>\n",
       "      <td>89.000000</td>\n",
       "      <td>6.548000e+03</td>\n",
       "      <td>1.511595e+09</td>\n",
       "      <td>1.519437e+09</td>\n",
       "      <td>1.000000</td>\n",
       "      <td>1.500000e+04</td>\n",
       "      <td>1.609369e+09</td>\n",
       "      <td>1.516694e+09</td>\n",
       "      <td>6.887200e+03</td>\n",
       "      <td>1.519366e+09</td>\n",
       "      <td>1.000000</td>\n",
       "      <td>6.550000e+03</td>\n",
       "    </tr>\n",
       "    <tr>\n",
       "      <th>max</th>\n",
       "      <td>105857.000000</td>\n",
       "      <td>8.596474e+06</td>\n",
       "      <td>1.552527e+09</td>\n",
       "      <td>1.557721e+09</td>\n",
       "      <td>1.876033</td>\n",
       "      <td>1.000000e+08</td>\n",
       "      <td>2.147476e+09</td>\n",
       "      <td>1.552537e+09</td>\n",
       "      <td>8.103074e+07</td>\n",
       "      <td>1.552537e+09</td>\n",
       "      <td>1.716408</td>\n",
       "      <td>8.596475e+06</td>\n",
       "    </tr>\n",
       "  </tbody>\n",
       "</table>\n",
       "</div>"
      ],
      "text/plain": [
       "       backers_count  converted_pledged_amount    created_at      deadline  \\\n",
       "count  209222.000000              2.092220e+05  2.092220e+05  2.092220e+05   \n",
       "mean      145.419057              1.289290e+04  1.456089e+09  1.463033e+09   \n",
       "std       885.967976              8.889414e+04  6.339711e+07  6.305618e+07   \n",
       "min         0.000000              0.000000e+00  1.240366e+09  1.241334e+09   \n",
       "25%         4.000000              1.060000e+02  1.413317e+09  1.420607e+09   \n",
       "50%        27.000000              1.537000e+03  1.457895e+09  1.464754e+09   \n",
       "75%        89.000000              6.548000e+03  1.511595e+09  1.519437e+09   \n",
       "max    105857.000000              8.596474e+06  1.552527e+09  1.557721e+09   \n",
       "\n",
       "             fx_rate          goal            id   launched_at       pledged  \\\n",
       "count  209222.000000  2.092220e+05  2.092220e+05  2.092220e+05  2.092220e+05   \n",
       "mean        0.994857  4.917604e+04  1.073222e+09  1.460206e+09  1.881403e+04   \n",
       "std         0.211654  1.179427e+06  6.198051e+08  6.309029e+07  3.229596e+05   \n",
       "min         0.008966  1.000000e-02  8.624000e+03  1.240603e+09  0.000000e+00   \n",
       "25%         1.000000  1.500000e+03  5.351054e+08  1.417639e+09  1.100000e+02   \n",
       "50%         1.000000  5.000000e+03  1.074579e+09  1.461924e+09  1.556000e+03   \n",
       "75%         1.000000  1.500000e+04  1.609369e+09  1.516694e+09  6.887200e+03   \n",
       "max         1.876033  1.000000e+08  2.147476e+09  1.552537e+09  8.103074e+07   \n",
       "\n",
       "       state_changed_at  static_usd_rate   usd_pledged  \n",
       "count      2.092220e+05    209222.000000  2.092220e+05  \n",
       "mean       1.462838e+09         1.010757  1.289213e+04  \n",
       "std        6.290421e+07         0.231893  8.890124e+04  \n",
       "min        1.241334e+09         0.008771  0.000000e+00  \n",
       "25%        1.420485e+09         1.000000  1.060014e+02  \n",
       "50%        1.464709e+09         1.000000  1.537358e+03  \n",
       "75%        1.519366e+09         1.000000  6.550000e+03  \n",
       "max        1.552537e+09         1.716408  8.596475e+06  "
      ]
     },
     "execution_count": 4,
     "metadata": {},
     "output_type": "execute_result"
    }
   ],
   "source": [
    "df.describe()"
   ]
  },
  {
   "cell_type": "markdown",
   "metadata": {},
   "source": [
    "First we define our target. We are interested in the state of success. So \"state\" is our target value for the classification. We are also interested in how much money is pledged for projects."
   ]
  },
  {
   "cell_type": "code",
   "execution_count": 5,
   "metadata": {},
   "outputs": [
    {
     "data": {
      "image/png": "[encoded data removed]",
      "text/plain": [
       "<Figure size 432x288 with 1 Axes>"
      ]
     },
     "metadata": {
      "needs_background": "light"
     },
     "output_type": "display_data"
    }
   ],
   "source": [
    "plt.boxplot(x=df['usd_pledged']);"
   ]
  },
  {
   "cell_type": "markdown",
   "metadata": {},
   "source": [
    "usd_pledged is very skewed. Therefore we will log transform the values for better visualizations. To avoid columns with value zero we add a small constant."
   ]
  },
  {
   "cell_type": "code",
   "execution_count": 6,
   "metadata": {},
   "outputs": [],
   "source": [
    "# log transformation\n",
    "df['usd_pledged'] = df['usd_pledged'] + 0.00001\n",
    "df['usd_pledged_log'] = np.log(df['usd_pledged'])"
   ]
  },
  {
   "cell_type": "code",
   "execution_count": 7,
   "metadata": {},
   "outputs": [
    {
     "data": {
      "image/png": "[encoded data removed]",
      "text/plain": [
       "<Figure size 432x288 with 1 Axes>"
      ]
     },
     "metadata": {
      "needs_background": "light"
     },
     "output_type": "display_data"
    }
   ],
   "source": [
    "# plot usd_pledged\n",
    "plt.boxplot(x=df['usd_pledged_log']);"
   ]
  },
  {
   "cell_type": "markdown",
   "metadata": {},
   "source": [
    "Let´s also get an overview of the other target \"state\". "
   ]
  },
  {
   "cell_type": "code",
   "execution_count": 8,
   "metadata": {},
   "outputs": [
    {
     "data": {
      "image/png": "[encoded data removed]",
      "text/plain": [
       "<Figure size 432x288 with 1 Axes>"
      ]
     },
     "metadata": {
      "needs_background": "light"
     },
     "output_type": "display_data"
    }
   ],
   "source": [
    "# overview how many projects were successful, failed, canceled\n",
    "df['state'].hist()\n",
    "plt.title('number of project per state', fontsize=20);"
   ]
  },
  {
   "cell_type": "markdown",
   "metadata": {},
   "source": [
    "We think that category could be an important feature. In the dataset the column is a json file. Therefore we have to read the categoryname out of the json file."
   ]
  },
  {
   "cell_type": "code",
   "execution_count": 9,
   "metadata": {},
   "outputs": [],
   "source": [
    "# new columns with information from 'category'\n",
    "df['category_parent_id'] = pd.DataFrame([json.loads(df[\"category\"][i]).get(\"parent_id\") for i in range(df.shape[0])])\n",
    "df['category_id'] = pd.DataFrame([json.loads(df[\"category\"][i]).get(\"id\") for i in range(df.shape[0])])\n",
    "df['category_name'] = pd.DataFrame([json.loads(df[\"category\"][i]).get(\"name\") for i in range(df.shape[0])])\n",
    "df['category_parent_id'] = df['category_parent_id'].fillna(0).astype(\"int\")"
   ]
  },
  {
   "cell_type": "code",
   "execution_count": 10,
   "metadata": {},
   "outputs": [],
   "source": [
    "# adds helper list as column to dataframe \n",
    "def add_list_as_column(df, column_name, list_name):\n",
    "    '''Adds helper list as column to dataframe and retruns updated dataframe'''\n",
    "    df[column_name] = pd.DataFrame(list_name)\n",
    "    return df"
   ]
  },
  {
   "cell_type": "code",
   "execution_count": 11,
   "metadata": {},
   "outputs": [],
   "source": [
    "def add_parent_id(df):\n",
    "    '''Extracts Parent ID out of the Category json and adds the Column to Dataframe. Returns updated Dataframe'''\n",
    "    df['category_parent_id'] = pd.DataFrame([json.loads(df[\"category\"][i]).get(\"parent_id\") for i in range(df.shape[0])])\n",
    "    return df"
   ]
  },
  {
   "cell_type": "code",
   "execution_count": 12,
   "metadata": {},
   "outputs": [],
   "source": [
    "def add_category_id(df):\n",
    "    '''Extracts category ID out of the Category json and adds the Column to Dataframe. Returns updated Dataframe'''\n",
    "    df['category_id'] = pd.DataFrame([json.loads(df[\"category\"][i]).get(\"id\") for i in range(df.shape[0])])\n",
    "    return df"
   ]
  },
  {
   "cell_type": "code",
   "execution_count": 13,
   "metadata": {},
   "outputs": [],
   "source": [
    "def add_category_name(df):\n",
    "    '''Extracts category name out of the Category json and adds the Column to Dataframe. Returns updated Dataframe'''\n",
    "    df['category_name'] = pd.DataFrame([json.loads(df[\"category\"][i]).get(\"name\") for i in range(df.shape[0])])\n",
    "    return df"
   ]
  },
  {
   "cell_type": "code",
   "execution_count": 14,
   "metadata": {},
   "outputs": [],
   "source": [
    "def fill_na(df, column_name):\n",
    "    '''Fill Missings with 0 as type integer. Returns updated dataframe. eg, for parent ID and pledged per backer'''\n",
    "    df[column_name] = df[column_name].fillna(0).astype(\"int\")\n",
    "    return df"
   ]
  },
  {
   "cell_type": "code",
   "execution_count": 15,
   "metadata": {},
   "outputs": [],
   "source": [
    "def add_parent_name(df, column_name1, column_name2, dictionary):\n",
    "    '''based on key value in a column, column with value is added as a column and updated dataframe is returned. \n",
    "    Example:\n",
    "        parents_dict = {1: \"Art\", 3: \"Comics\", 6: \"Dance\", 7: \"Design\", 9: \"Fashion\", 10: \"Food\",\n",
    "                11: \"Film & Video\", 12: \"Games\", 13: \"Journalism\", 14: \"Music\", 15: \"Photography\", 16: \"Technology\",\n",
    "               17: \"Theater\", 18: \"Publishing\", 26: \"Crafts\"}\n",
    "            df[\"parent_name\"] = df[\"filled_parent\"].apply(lambda x: parents_dict.get(x))'''\n",
    "    df[column_name1] = df[column_name2].apply(lambda x: dictionary.get(x))\n",
    "    return df"
   ]
  },
  {
   "cell_type": "code",
   "execution_count": 16,
   "metadata": {},
   "outputs": [],
   "source": [
    "df = add_parent_id(df)\n",
    "df = add_category_id(df)\n",
    "df = add_category_name(df)\n",
    "df = fill_na(df, 'category_parent_id')"
   ]
  },
  {
   "cell_type": "code",
   "execution_count": 17,
   "metadata": {},
   "outputs": [],
   "source": [
    "empty = []\n",
    "for i in range(df.shape[0]):\n",
    "    if df[\"category_parent_id\"][i] != 0:\n",
    "        empty.append(df[\"category_parent_id\"][i])\n",
    "    else:\n",
    "        empty.append(df[\"category_id\"][i])"
   ]
  },
  {
   "cell_type": "code",
   "execution_count": 18,
   "metadata": {},
   "outputs": [],
   "source": [
    "df = add_list_as_column(df, \"filled_parent\", empty)"
   ]
  },
  {
   "cell_type": "code",
   "execution_count": 19,
   "metadata": {},
   "outputs": [],
   "source": [
    "df = add_parent_name(df, \"parent_name\", \"filled_parent\", {1: \"Art\", 3: \"Comics\", 6: \"Dance\", 7: \"Design\", 9: \"Fashion\", 10: \"Food\",\n",
    "                11: \"Film & Video\", 12: \"Games\", 13: \"Journalism\", 14: \"Music\", 15: \"Photography\", 16: \"Technology\",\n",
    "               17: \"Theater\", 18: \"Publishing\", 26: \"Crafts\"})"
   ]
  },
  {
   "cell_type": "code",
   "execution_count": 20,
   "metadata": {},
   "outputs": [
    {
     "data": {
      "image/png": "[encoded data removed]",
      "text/plain": [
       "<Figure size 720x504 with 1 Axes>"
      ]
     },
     "metadata": {
      "needs_background": "light"
     },
     "output_type": "display_data"
    }
   ],
   "source": [
    "all_cats = df.parent_name.unique()\n",
    "\n",
    "# plot categories in relation to usd_pledged\n",
    "plt.figure(figsize=(10,7))\n",
    "\n",
    "fig2 = sns.boxplot(y=\"usd_pledged_log\", x=\"parent_name\", data=df, palette = 'muted')\n",
    "fig2.set_xticks(range(15))\n",
    "fig2.set_xticklabels(all_cats, rotation=90)\n",
    "fig2.set_yticklabels([])\n",
    "fig2.set_xlabel(None)\n",
    "fig2.set_ylabel('usd_pledged_log')\n",
    "plt.title('usd_pledged_log per category', fontsize=20);"
   ]
  },
  {
   "cell_type": "markdown",
   "metadata": {},
   "source": [
    "From the boxplots above we can see that some categories pledge higher amounts than others. Our stakeholders project will fall into more successfull categories like Design, Games, Technology, Film&Video and Art.\n",
    "\n",
    "Because we think preparation and duration time and also the season are important we will create new columns."
   ]
  },
  {
   "cell_type": "code",
   "execution_count": 21,
   "metadata": {},
   "outputs": [],
   "source": [
    "#funtion to extract the month out of the number\n",
    "def extract_month(number):\n",
    "    '''Extracts the month out of the number and returns the month'''\n",
    "    gmtime = time.gmtime(number)\n",
    "    return gmtime[1]"
   ]
  },
  {
   "cell_type": "code",
   "execution_count": 22,
   "metadata": {},
   "outputs": [],
   "source": [
    "# Adding column with month the project was launched\n",
    "def adding_month_launched(df):  \n",
    "    '''Adding column with month the project was launched and returns the updated dataframe'''\n",
    "    df[\"launched_month\"] = df.apply(lambda x: extract_month(x[\"launched_at\"]), axis=1)\n",
    "    return df"
   ]
  },
  {
   "cell_type": "code",
   "execution_count": 23,
   "metadata": {},
   "outputs": [],
   "source": [
    "df = adding_month_launched(df)"
   ]
  },
  {
   "cell_type": "code",
   "execution_count": 24,
   "metadata": {},
   "outputs": [],
   "source": [
    "def duration(deadline, launched_at):\n",
    "    '''Calculating difference between two timepoints and returns it in days'''\n",
    "    duration = deadline - launched_at\n",
    "    duration_complete = dt.timedelta(seconds=duration)\n",
    "    return duration_complete.days"
   ]
  },
  {
   "cell_type": "code",
   "execution_count": 25,
   "metadata": {},
   "outputs": [],
   "source": [
    "# Adding column with duration in days\n",
    "def adding_duration(df):\n",
    "    '''Adding column with duration in days and returns updated dataframe'''\n",
    "    df[\"duration_days\"] = df.apply(lambda x: duration(x[\"deadline\"], x[\"launched_at\"]), axis=1)\n",
    "    return df"
   ]
  },
  {
   "cell_type": "code",
   "execution_count": null,
   "metadata": {},
   "outputs": [],
   "source": [
    "df = adding_duration(df)"
   ]
  },
  {
   "cell_type": "code",
   "execution_count": null,
   "metadata": {},
   "outputs": [],
   "source": [
    "def adding_preparation(df):\n",
    "    '''Adding column with preparation in days and returns updated dataframe'''\n",
    "    df[\"preparation\"] = df.apply(lambda x: duration(x[\"launched_at\"], x[\"created_at\"]), axis=1)\n",
    "    return df"
   ]
  },
  {
   "cell_type": "code",
   "execution_count": null,
   "metadata": {},
   "outputs": [],
   "source": [
    "df = adding_preparation(df)"
   ]
  },
  {
   "cell_type": "code",
   "execution_count": null,
   "metadata": {},
   "outputs": [],
   "source": [
    "# plot relation between month launched and state\n",
    "sns.catplot(x = \"launched_month\", kind = 'count', hue = 'state', data=df, aspect=2, palette = 'muted')\n",
    "plt.title('project state per month', fontsize=20);"
   ]
  },
  {
   "cell_type": "markdown",
   "metadata": {},
   "source": [
    "In December fewer projects are launched. The proportion of successful prjects seems to be likely higher in September to November."
   ]
  },
  {
   "cell_type": "code",
   "execution_count": null,
   "metadata": {},
   "outputs": [],
   "source": [
    "# plot relation usd_pledged and launched_month\n",
    "var = 'launched_month'\n",
    "data = pd.concat([df['usd_pledged_log'], df[var]], axis=1)\n",
    "f, ax = plt.subplots(figsize=(8, 6))\n",
    "fig = sns.violinplot(x=var, y='usd_pledged_log', data=data, palette = 'muted')\n",
    "fig.axis(ymin=0, ymax=17)\n",
    "plt.title('usd_pledged_log', fontsize=20);"
   ]
  },
  {
   "cell_type": "markdown",
   "metadata": {},
   "source": [
    "There are only small differences between each month. But again September until November the amount of pledged money is slightly higher. "
   ]
  },
  {
   "cell_type": "code",
   "execution_count": null,
   "metadata": {},
   "outputs": [],
   "source": [
    "df = df.query('state == \"successful\" or state == \"failed\"')"
   ]
  },
  {
   "cell_type": "code",
   "execution_count": null,
   "metadata": {},
   "outputs": [],
   "source": [
    "df_mean_duration = df.groupby(['state'])['duration_days'].mean().round(2).reset_index()\n",
    "df_median_duration = df.groupby(['state'])['duration_days'].median().reset_index()\n",
    "d = pd.merge(df_mean_duration, df_median_duration, on=['state'], suffixes=[' mean', ' median']).plot(kind='bar')\n",
    "legend = ['duration mean', 'duration median']\n",
    "d.legend(legend,loc=4)\n",
    "d.set_xticklabels(['failed', 'successful'], rotation=0);"
   ]
  },
  {
   "cell_type": "code",
   "execution_count": null,
   "metadata": {},
   "outputs": [],
   "source": [
    "df_mean_preparation = df.groupby(['state'])['preparation'].mean().round(2).reset_index()\n",
    "df_median_preparation = df.groupby(['state'])['preparation'].median().reset_index()\n",
    "a = pd.merge(df_mean_preparation, df_median_preparation, on=['state'], suffixes=[' mean', ' median']).plot(kind='bar')\n",
    "legend = ['preparation mean', 'preparation median']\n",
    "a.legend(legend,loc=4)\n",
    "a.set_xticklabels(['failed', 'successful'], rotation=0);"
   ]
  },
  {
   "cell_type": "markdown",
   "metadata": {},
   "source": [
    "A good length for duration time are 30 days and in general successful projects take longer time for preparation.\n",
    "Now let´s have a look on the relation between goal and the state."
   ]
  },
  {
   "cell_type": "code",
   "execution_count": null,
   "metadata": {},
   "outputs": [],
   "source": [
    "df_mean_goal = df.groupby(['state'])['goal'].mean().round(2).reset_index()\n",
    "df_median_goal = df.groupby(['state'])['goal'].median().reset_index()\n",
    "c = pd.merge(df_mean_goal, df_median_goal, on=['state'], suffixes=[' mean', ' median']).plot(kind='bar')\n",
    "c.set_xticklabels(['failed', 'successful'], rotation=0);"
   ]
  },
  {
   "cell_type": "markdown",
   "metadata": {},
   "source": [
    "As expected we see in the plot that successful projects set lower goals which are easier to achieve."
   ]
  },
  {
   "cell_type": "markdown",
   "metadata": {},
   "source": [
    "## Future work\n",
    "* Check the relation between the project descriptions and the state\n",
    "* Outlier detection\n",
    "* Correlations between all features"
   ]
  }
 ],
 "metadata": {
  "kernelspec": {
   "display_name": "Python 3",
   "language": "python",
   "name": "python3"
  },
  "language_info": {
   "codemirror_mode": {
    "name": "ipython",
    "version": 3
   },
   "file_extension": ".py",
   "mimetype": "text/x-python",
   "name": "python",
   "nbconvert_exporter": "python",
   "pygments_lexer": "ipython3",
   "version": "3.8.3"
  }
 },
 "nbformat": 4,
 "nbformat_minor": 4
}
